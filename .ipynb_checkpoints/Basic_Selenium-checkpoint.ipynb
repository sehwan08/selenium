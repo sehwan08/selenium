{
 "cells": [
  {
   "cell_type": "markdown",
   "id": "1eb8acc7",
   "metadata": {},
   "source": [
    "### Selenium 기초"
   ]
  },
  {
   "cell_type": "code",
   "execution_count": 2,
   "id": "7cfc2102",
   "metadata": {},
   "outputs": [],
   "source": [
    "import selenium\n",
    "from selenium import webdriver\n",
    "from selenium.webdriver.common.keys import Keys\n",
    "\n",
    "#웹브라우저를 띄우지 않고 진행하기 위한 설정\n",
    "chrome_options = webdriver.ChromeOptions()\n",
    "chrome_options.add_argument('--headless')\n",
    "chrome_options.add_argument('--no-sandbox')\n",
    "chrome_options.add_argument('--disable-dev-shm-usage')"
   ]
  },
  {
   "cell_type": "markdown",
   "id": "a1f134f9",
   "metadata": {},
   "source": [
    "### 웹 드라이버 객체 생성"
   ]
  },
  {
   "cell_type": "code",
   "execution_count": 4,
   "id": "2c0d3f28",
   "metadata": {},
   "outputs": [],
   "source": [
    "#이렇게 객체를 생성하여 위에서 세팅된 값을 넣어주면 된다!\n",
    "wd = webdriver.Chrome('chromedriver', options=chrome_options)"
   ]
  },
  {
   "cell_type": "code",
   "execution_count": 5,
   "id": "7a79fec2",
   "metadata": {},
   "outputs": [],
   "source": [
    "wd.get(\"http://suanlab.com/\")"
   ]
  },
  {
   "cell_type": "code",
   "execution_count": 6,
   "id": "4c5a5e44",
   "metadata": {},
   "outputs": [
    {
     "data": {
      "text/plain": [
       "True"
      ]
     },
     "execution_count": 6,
     "metadata": {},
     "output_type": "execute_result"
    }
   ],
   "source": [
    "wd.get_screenshot_as_file(\"suanlab.png\")"
   ]
  },
  {
   "cell_type": "code",
   "execution_count": 8,
   "id": "1c9a30fb",
   "metadata": {},
   "outputs": [
    {
     "name": "stderr",
     "output_type": "stream",
     "text": [
      "C:\\Users\\Cha\\AppData\\Local\\Temp/ipykernel_13844/2668895142.py:1: DeprecationWarning: find_elements_by_* commands are deprecated. Please use find_elements() instead\n",
      "  for label in wd.find_elements_by_tag_name('label'):\n"
     ]
    },
    {
     "name": "stdout",
     "output_type": "stream",
     "text": [
      "[2020-04-14] \"메타버스 시대가 오고 있다\"\n",
      "[2020-01-20] \"바이러스 연구부터 뷰티·배달 AI 결합한 비즈니스...\"\n",
      "[2020-10-07] \"이력서 작성·레시피 제공 다양하게 활용되는 GPT3\"\n",
      "[2020-05-20] \"인공지능의 보안 위협\"\n",
      "[2020-03-04] \"데이터 경제 시대\"\n",
      "[2019-12-25] \"마이데이터 시대의 도래 데이터 주권과 새로운 가치\"\n",
      "[2019-09-04] \"농업으로 들어간 인공지능\"\n",
      "[2019-08-07] \"AI시대 지배할 것인가 지배당하며 살 것인가\"\n"
     ]
    }
   ],
   "source": [
    "for label in wd.find_elements_by_tag_name('label'):\n",
    "    print(label.text)#객체의 text값을 들고 와야 한다"
   ]
  },
  {
   "cell_type": "code",
   "execution_count": 9,
   "id": "397a95ed",
   "metadata": {},
   "outputs": [
    {
     "name": "stderr",
     "output_type": "stream",
     "text": [
      "C:\\Users\\Cha\\AppData\\Local\\Temp/ipykernel_13844/4038805027.py:1: DeprecationWarning: find_elements_by_* commands are deprecated. Please use find_elements() instead\n",
      "  for label in wd.find_elements_by_css_selector('#wrapper > section > div > div > div > div > div > label'):\n"
     ]
    },
    {
     "name": "stdout",
     "output_type": "stream",
     "text": [
      "[2020-04-14] \"메타버스 시대가 오고 있다\"\n",
      "[2020-01-20] \"바이러스 연구부터 뷰티·배달 AI 결합한 비즈니스...\"\n",
      "[2020-10-07] \"이력서 작성·레시피 제공 다양하게 활용되는 GPT3\"\n",
      "[2020-05-20] \"인공지능의 보안 위협\"\n",
      "[2020-03-04] \"데이터 경제 시대\"\n",
      "[2019-12-25] \"마이데이터 시대의 도래 데이터 주권과 새로운 가치\"\n",
      "[2019-09-04] \"농업으로 들어간 인공지능\"\n",
      "[2019-08-07] \"AI시대 지배할 것인가 지배당하며 살 것인가\"\n"
     ]
    }
   ],
   "source": [
    "for label in wd.find_elements_by_css_selector('#wrapper > section > div > div > div > div > div > label'):\n",
    "    print(label.text)"
   ]
  },
  {
   "cell_type": "code",
   "execution_count": 11,
   "id": "8593eab3",
   "metadata": {},
   "outputs": [
    {
     "name": "stdout",
     "output_type": "stream",
     "text": [
      "[2020-04-14] \"메타버스 시대가 오고 있다\"\n",
      "[2020-01-20] \"바이러스 연구부터 뷰티·배달 AI 결합한 비즈니스...\"\n",
      "[2020-10-07] \"이력서 작성·레시피 제공 다양하게 활용되는 GPT3\"\n",
      "[2020-05-20] \"인공지능의 보안 위협\"\n",
      "[2020-03-04] \"데이터 경제 시대\"\n",
      "[2019-12-25] \"마이데이터 시대의 도래 데이터 주권과 새로운 가치\"\n",
      "[2019-09-04] \"농업으로 들어간 인공지능\"\n",
      "[2019-08-07] \"AI시대 지배할 것인가 지배당하며 살 것인가\"\n"
     ]
    },
    {
     "name": "stderr",
     "output_type": "stream",
     "text": [
      "C:\\Users\\Cha\\AppData\\Local\\Temp/ipykernel_13844/4173506114.py:1: DeprecationWarning: find_elements_by_* commands are deprecated. Please use find_elements() instead\n",
      "  for label in wd.find_elements_by_xpath('//*[@id=\"wrapper\"]/section/div/div/div/div/div/label'):\n"
     ]
    }
   ],
   "source": [
    "for label in wd.find_elements_by_xpath('//*[@id=\"wrapper\"]/section/div/div/div/div/div/label'):\n",
    "    print(label.text)"
   ]
  },
  {
   "cell_type": "code",
   "execution_count": 17,
   "id": "e0616d06",
   "metadata": {},
   "outputs": [
    {
     "name": "stdout",
     "output_type": "stream",
     "text": [
      "[2020-04-14] \"메타버스 시대가 오고 있다\"\n",
      "[2020-01-20] \"바이러스 연구부터 뷰티·배달 AI 결합한 비즈니스...\"\n",
      "[2020-10-07] \"이력서 작성·레시피 제공 다양하게 활용되는 GPT3\"\n",
      "[2020-05-20] \"인공지능의 보안 위협\"\n",
      "[2020-03-04] \"데이터 경제 시대\"\n",
      "[2019-12-25] \"마이데이터 시대의 도래 데이터 주권과 새로운 가치\"\n",
      "[2019-09-04] \"농업으로 들어간 인공지능\"\n",
      "[2019-08-07] \"AI시대 지배할 것인가 지배당하며 살 것인가\"\n"
     ]
    },
    {
     "name": "stderr",
     "output_type": "stream",
     "text": [
      "C:\\Users\\Cha\\AppData\\Local\\Temp/ipykernel_13844/966393350.py:1: DeprecationWarning: find_element_by_* commands are deprecated. Please use find_element() instead\n",
      "  labels = wd.find_element_by_css_selector('#wrapper > section > div > div > div > div')\n",
      "C:\\devtools\\python\\lib\\site-packages\\selenium\\webdriver\\remote\\webelement.py:463: UserWarning: find_elements_by_* commands are deprecated. Please use find_elements() instead\n",
      "  warnings.warn(\"find_elements_by_* commands are deprecated. Please use find_elements() instead\")\n"
     ]
    }
   ],
   "source": [
    "labels = wd.find_element_by_css_selector('#wrapper > section > div > div > div > div')\n",
    "\n",
    "for label in labels.find_elements_by_class_name('toggle'):\n",
    "    print(label.text)"
   ]
  },
  {
   "cell_type": "code",
   "execution_count": null,
   "id": "3dca487a",
   "metadata": {},
   "outputs": [],
   "source": []
  },
  {
   "cell_type": "code",
   "execution_count": null,
   "id": "e2fe3e54",
   "metadata": {},
   "outputs": [],
   "source": []
  },
  {
   "cell_type": "code",
   "execution_count": null,
   "id": "de01a6cf",
   "metadata": {},
   "outputs": [],
   "source": []
  },
  {
   "cell_type": "code",
   "execution_count": null,
   "id": "3db8366b",
   "metadata": {},
   "outputs": [],
   "source": []
  },
  {
   "cell_type": "code",
   "execution_count": null,
   "id": "788ac0a5",
   "metadata": {},
   "outputs": [],
   "source": []
  },
  {
   "cell_type": "code",
   "execution_count": null,
   "id": "04964a92",
   "metadata": {},
   "outputs": [],
   "source": []
  },
  {
   "cell_type": "code",
   "execution_count": null,
   "id": "e33a1abe",
   "metadata": {},
   "outputs": [],
   "source": []
  }
 ],
 "metadata": {
  "kernelspec": {
   "display_name": "Python 3 (ipykernel)",
   "language": "python",
   "name": "python3"
  },
  "language_info": {
   "codemirror_mode": {
    "name": "ipython",
    "version": 3
   },
   "file_extension": ".py",
   "mimetype": "text/x-python",
   "name": "python",
   "nbconvert_exporter": "python",
   "pygments_lexer": "ipython3",
   "version": "3.10.0"
  }
 },
 "nbformat": 4,
 "nbformat_minor": 5
}
