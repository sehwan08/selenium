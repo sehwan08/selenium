{
 "cells": [
  {
   "cell_type": "code",
   "execution_count": null,
   "id": "b00ee1b6",
   "metadata": {},
   "outputs": [],
   "source": [
    "from urllib.request import urlopen\n",
    "from urllib.parse import quote_plus #아스키 코드 변환 용\n",
    "from bs4 import BeautifulSoup\n",
    "from selenium import webdriver\n",
    "from selenium.webdriver.common.by import By\n",
    "import time\n",
    "\n",
    "login_option=\"facebook\"\n",
    "facebook_login_page_css=\".sqdOP.L3NKy.y3zKF \"\n",
    "facebook_login_page_css2=\".sqdOP.yWX7d.y3zKF \" \n",
    "facebook_id_form_name=\"email\"\n",
    "facebook_pw_form_name=\"pass\"\n",
    "facebook_login_btn_name=\"login\"\n",
    "\n",
    "baseUrl = 'https://www.instagram.com/explore/tags/'\n",
    "plusUrl = input('검색할 태그를 입력하세요: ')\n",
    "url = baseUrl + quote_plus(plusUrl)"
   ]
  },
  {
   "cell_type": "code",
   "execution_count": 6,
   "id": "552235af",
   "metadata": {},
   "outputs": [
    {
     "name": "stdout",
     "output_type": "stream",
     "text": [
      "검색할 태그를 입력하세요: programmer\n",
      "[]\n"
     ]
    }
   ],
   "source": [
    "driver = webdriver.Chrome()\n",
    "driver.get(url)\n",
    "time.sleep(3)\n",
    "\n",
    "if login_option == \"facebook\":\n",
    "    is_facebook_btn_click = False\n",
    "    try:\n",
    "        print(\"페이스북 로그인 버튼 클릭!\")\n",
    "        facebook_login_btn = driver.find_element(By.CSS_SELECTOR(facebook_login_page_css))\n",
    "        time.sleep(5)\n",
    "        facebook_login_btn.click()\n",
    "        is_facebook_btn_click = True\n",
    "        is_login_success = True\n",
    "    except Excpetion as e:\n",
    "        print(e, \"페이스북 로그인 버튼 클릭 실패!\")\n",
    "        is_facebook_btn_click = False\n",
    "        is_login_success = False\n",
    "    \n",
    "    time.sleep(10)\n",
    "    \n",
    "    if not is_facebook_btn_click:\n",
    "        print(\"페이스북 로그인 버튼2 클릭!\")\n",
    "        try:\n",
    "            facebook_login_btn = driver.find_element(By.CSS_SELECTOR(facebook_login_page_css2))\n",
    "            time.sleep(5)\n",
    "            facebook_login_btn.click()\n",
    "            is_facebook_btn_click = True\n",
    "            is_login_success = True \n",
    "        except Excpetion as e: \n",
    "            print(e, \"페이스북 로그인 버튼2 클릭 실패!\")\n",
    "            is_login_success = False\n",
    "            time.sleep(10)\n",
    "\n",
    "print(\"로그인 시작\")\n",
    "\n",
    "\n"
   ]
  },
  {
   "cell_type": "code",
   "execution_count": 5,
   "id": "e7b4edec",
   "metadata": {},
   "outputs": [
    {
     "name": "stdout",
     "output_type": "stream",
     "text": [
      "[]\n"
     ]
    }
   ],
   "source": [
    "\n",
    "\n",
    "\n",
    "html = driver.page_source #웹 페이지의 html소스를 들고 온다. \n",
    "soup = BeautifulSoup(html)\n",
    "\n",
    "insta = soup.select('.v1Nh3.kIKUG._bz0w')\n",
    "\n",
    "print(insta)"
   ]
  },
  {
   "cell_type": "code",
   "execution_count": null,
   "id": "1490e25c",
   "metadata": {},
   "outputs": [],
   "source": []
  },
  {
   "cell_type": "code",
   "execution_count": null,
   "id": "83cc955f",
   "metadata": {},
   "outputs": [],
   "source": []
  },
  {
   "cell_type": "code",
   "execution_count": null,
   "id": "20125c3d",
   "metadata": {},
   "outputs": [],
   "source": []
  },
  {
   "cell_type": "code",
   "execution_count": null,
   "id": "391ceeb3",
   "metadata": {},
   "outputs": [],
   "source": []
  },
  {
   "cell_type": "code",
   "execution_count": null,
   "id": "5c759e74",
   "metadata": {},
   "outputs": [],
   "source": []
  },
  {
   "cell_type": "code",
   "execution_count": null,
   "id": "85d46b46",
   "metadata": {},
   "outputs": [],
   "source": []
  },
  {
   "cell_type": "code",
   "execution_count": null,
   "id": "f437a1a6",
   "metadata": {},
   "outputs": [],
   "source": []
  }
 ],
 "metadata": {
  "kernelspec": {
   "display_name": "Python 3 (ipykernel)",
   "language": "python",
   "name": "python3"
  },
  "language_info": {
   "codemirror_mode": {
    "name": "ipython",
    "version": 3
   },
   "file_extension": ".py",
   "mimetype": "text/x-python",
   "name": "python",
   "nbconvert_exporter": "python",
   "pygments_lexer": "ipython3",
   "version": "3.10.0"
  }
 },
 "nbformat": 4,
 "nbformat_minor": 5
}
