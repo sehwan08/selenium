{
 "cells": [
  {
   "cell_type": "code",
   "execution_count": 28,
   "id": "5d9fd5d4",
   "metadata": {},
   "outputs": [],
   "source": [
    "import selenium\n",
    "from selenium import webdriver\n",
    "from selenium.webdriver.common.keys import Keys\n",
    "from selenium.webdriver.common.by import By\n",
    "import time\n",
    "\n",
    "#웹브라우저를 띄우지 않고 진행하기 위한 설정\n",
    "chrome_options = webdriver.ChromeOptions()\n",
    "chrome_options.add_argument('--headless')\n",
    "chrome_options.add_argument('--no-sandbox')\n",
    "chrome_options.add_argument('--disable-dev-shm-usage')"
   ]
  },
  {
   "cell_type": "code",
   "execution_count": 3,
   "id": "6f129d2e",
   "metadata": {},
   "outputs": [],
   "source": [
    "#이렇게 객체를 생성하여 위에서 세팅된 값을 넣어주면 된다!\n",
    "wd = webdriver.Chrome('chromedriver', options=chrome_options)"
   ]
  },
  {
   "cell_type": "code",
   "execution_count": 4,
   "id": "36fcfe68",
   "metadata": {},
   "outputs": [],
   "source": [
    "wd.get('https://comic.naver.com/index')"
   ]
  },
  {
   "cell_type": "code",
   "execution_count": 13,
   "id": "52ea4939",
   "metadata": {},
   "outputs": [
    {
     "name": "stdout",
     "output_type": "stream",
     "text": [
      "칼가는 소녀\n",
      "쇼미더럭키짱!\n",
      "헬스 시궁창인생 고등학교\n",
      "컷툰\n",
      "2022 서브병에 빠지다!\n",
      "컷툰\n",
      "독립일기\n",
      "약한영웅\n",
      "제목이 7080 만화\n",
      "자작 보드게임 동아리\n",
      "영하체\n",
      "누나미워!\n",
      "안녕 나의 수집\n",
      "상상동물\n",
      "후손들의 이야기\n",
      "너는 나의 나는 너의 수호천사\n",
      "악괴를 잡아 너를 지키겠습니다.\n",
      "환생 해결사\n",
      "최애에게 길러지고 있습니다.\n",
      "멸망한 세계를 되살리는 방법\n",
      "천재 퇴마사가 자꾸 강해져\n",
      "미녀 사부들에게 길들여지는 법\n",
      "제천만계에서 돌아오다\n"
     ]
    }
   ],
   "source": [
    "# titles = wd.find_elements_by_class_name('title')\n",
    "# for title in titles:\n",
    "#     print(title.text)\n",
    "\n",
    "\n",
    "for title in wd.find_elements(By.CLASS_NAME, 'title'):\n",
    "    print(title.text)"
   ]
  },
  {
   "cell_type": "code",
   "execution_count": 36,
   "id": "a5f2465b",
   "metadata": {
    "scrolled": true
   },
   "outputs": [
    {
     "name": "stdout",
     "output_type": "stream",
     "text": [
      "[ 에피소드 ]\n",
      "\t 칼가는 소녀 - 오리\n",
      "\t 쇼미더럭키짱! - 박태준 / 김성모\n",
      "\t 헬스 시궁창인생 고등학교 - 붉은코끼리\n",
      "\t 2022 서브병에 빠지다! - 웹툰작가\n",
      "\t 독립일기 - 자까\n",
      "\t 약한영웅 - 서패스 / 김진석\n",
      "[ 옴니버스 ]\n",
      "\t 중독연구소 - 김택기\n",
      "\t 히어로메이커 - 빤쓰\n",
      "\t 결혼생활 그림일기 - 은꼼지\n",
      "\t 내일 - 라마\n",
      "\t 무서운게 딱좋아! - 이동규\n",
      "\t 굿 리스너 - 쥬드프라이데이\n",
      "[ 스토리 ]\n",
      "\t 꿈의 기업 - 문지현\n",
      "\t 트리거 - 고경빈\n",
      "\t 백호랑 - 박혬\n",
      "\t 헬로맨스 - 이공주 / 하얀독수리\n",
      "\t 홍천기 - 정은궐 / LICO\n",
      "\t 요리GO - HO9\n",
      "[ 일상 ]\n",
      "\t 결혼생활 그림일기 - 은꼼지\n",
      "\t 독립일기 - 자까\n",
      "\t 윌유메리미 - 마인드C\n",
      "\t 먹는 인생 - 홍끼\n",
      "\t 오빠세끼 - 올리브유\n",
      "\t 배트맨: 웨인 패밀리 어드벤처 - CRC Payne / StarBite\n",
      "[ 개그 ]\n",
      "\t 헬스 시궁창인생 고등학교 - 붉은코끼리\n",
      "\t 2022 서브병에 빠지다! - 웹툰작가\n",
      "\t 경자 전성시대 - 김호드\n",
      "\t 사실 마법이었던 거임 - 박성현\n",
      "\t 최면학교 - 박은혁\n",
      "\t 후덜덜덜 남극전자 - 김민혁\n",
      "[ 판타지 ]\n",
      "\t 히어로메이커 - 빤쓰\n",
      "\t 트리거 - 고경빈\n",
      "\t 백호랑 - 박혬\n",
      "\t 라서드 - 감람\n",
      "\t 앵무살수 - 김성진\n",
      "\t 달로 만든 아이 - 온윤\n",
      "[ 액션 ]\n",
      "\t 더블클릭 - 김장훈,박수봉 / 박수봉\n",
      "\t 참교육 - 채용택 / 한가람\n",
      "\t 보살님이 캐리해! - 성코 / 콩자\n",
      "\t 말박왕 - 용사\n",
      "\t 장씨세가 호위무사 - 조형근 / 김인호\n",
      "\t 제왕: 빛과 그림자 - 김남규 / 애풍,김한석\n",
      "[ 드라마 ]\n",
      "\t 중독연구소 - 김택기\n",
      "\t 요리GO - HO9\n",
      "\t 착한건 돈이된다 - 유성연\n",
      "\t 와이키키 뱀파이어 - 요니요니\n",
      "\t 백수세끼 - 치즈\n",
      "\t 팔이피플 - 매미 / 희세\n",
      "[ 순정 ]\n",
      "\t 헬로맨스 - 이공주 / 하얀독수리\n",
      "\t 홍천기 - 정은궐 / LICO\n",
      "\t 모락모락 왕세자님 - 원해\n",
      "\t 아, 쫌 참으세요 영주님! - daybook / 새우초밥\n",
      "\t 야생천사 보호구역 - 루시드\n",
      "\t 이탄국의 자청비 - 김보람, 한집 / 나넷\n",
      "[ 감성 ]\n",
      "\t 드로잉 레시피 - 꼬모소이\n",
      "\t 슈퍼스타 천대리 - Do8, 박경원 / 이재국\n",
      "\t 다시 또 봄 - 이힝\n",
      "\t 연우의 순정 - 이솔\n",
      "\t 여고생 임연수 - 령 / 박혬\n",
      "\t 안녕 나의 모모로 - 켄타\n",
      "[ 스릴러 ]\n",
      "\t 꿈의 기업 - 문지현\n",
      "\t 바퀴 - 나우원 / 오른손\n",
      "\t 꼬리잡기 - 바쉬\n",
      "\t 똑 닮은 딸 - 이담\n",
      "\t 불순물 - 우열\n",
      "\t 데이즈 - 양수\n",
      "[ 시대극 ]\n",
      "\t 사막에 핀 달 - 선지\n",
      "\t 한 달 서른 날 - 꿀자몽\n",
      "\t 여우애담 - 이도광\n",
      "\t 삼국지톡 - 무적핑크 / 이리\n",
      "\t 칼부림 - 고일권\n",
      "\t 화산귀환 - 비가 / LICO\n",
      "[ 스포츠 ]\n",
      "\t 가비지타임 - 2사장\n",
      "\t 위닝샷! - 강견 / 시바견\n",
      "\t 스트릿 워크아웃 - 장부규\n",
      "\t 탑코너 - 윤성 / 라군\n",
      "\t 태권보이 - 김우준\n",
      "\t 인피니티 - 2오\n"
     ]
    }
   ],
   "source": [
    "g_tags = wd.find_element(By.CLASS_NAME, 'tab_gr') #전체 탭 태그 접근\n",
    "genres = g_tags.find_elements(By.TAG_NAME, 'a') #거기서 탭을 옮겨다닐 <a> 태그 긁어옴\n",
    "\n",
    "for genre in genres:\n",
    "    genre.click() # 실제로 자동화 라이브러리로 클릭이 가능 (.click())\n",
    "    print('[', genre.text,']')\n",
    "    time.sleep(1)\n",
    "    \n",
    "    #타이틀을 하나 클릭하고 이 밑에부분이 실행 되는 것!\n",
    "    genre_rec_list = wd.find_elements(By.CLASS_NAME, 'genreRecomInfo2')\n",
    "\n",
    "    for genre_rec in genre_rec_list:\n",
    "        title_class = genre_rec.find_element(By.CLASS_NAME, 'title')\n",
    "        title = title_class.find_element(By.TAG_NAME, 'a').text\n",
    "        user = genre_rec.find_element(By.CLASS_NAME, 'user').text\n",
    "        print('\\t', title, '-', user)\n",
    "\n"
   ]
  },
  {
   "cell_type": "code",
   "execution_count": null,
   "id": "245f8a26",
   "metadata": {},
   "outputs": [],
   "source": []
  },
  {
   "cell_type": "code",
   "execution_count": null,
   "id": "5c7dbdf8",
   "metadata": {},
   "outputs": [],
   "source": []
  },
  {
   "cell_type": "code",
   "execution_count": null,
   "id": "e37b294d",
   "metadata": {},
   "outputs": [],
   "source": []
  },
  {
   "cell_type": "code",
   "execution_count": null,
   "id": "0e56a04a",
   "metadata": {},
   "outputs": [],
   "source": []
  },
  {
   "cell_type": "code",
   "execution_count": null,
   "id": "16899563",
   "metadata": {},
   "outputs": [],
   "source": []
  },
  {
   "cell_type": "code",
   "execution_count": null,
   "id": "8d8288b3",
   "metadata": {},
   "outputs": [],
   "source": []
  }
 ],
 "metadata": {
  "kernelspec": {
   "display_name": "Python 3 (ipykernel)",
   "language": "python",
   "name": "python3"
  },
  "language_info": {
   "codemirror_mode": {
    "name": "ipython",
    "version": 3
   },
   "file_extension": ".py",
   "mimetype": "text/x-python",
   "name": "python",
   "nbconvert_exporter": "python",
   "pygments_lexer": "ipython3",
   "version": "3.10.0"
  }
 },
 "nbformat": 4,
 "nbformat_minor": 5
}
