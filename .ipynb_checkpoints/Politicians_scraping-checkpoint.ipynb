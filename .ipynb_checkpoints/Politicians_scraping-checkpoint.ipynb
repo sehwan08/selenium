{
 "cells": [
  {
   "cell_type": "code",
   "execution_count": 1,
   "id": "fe58ef5b",
   "metadata": {},
   "outputs": [],
   "source": [
    "import selenium\n",
    "from selenium import webdriver\n",
    "from selenium.webdriver.common.keys import Keys\n",
    "from selenium.webdriver.common.by import By\n",
    "import time\n",
    "import pandas as pd\n",
    "from selenium.common.exceptions import ElementClickInterceptedException, NoSuchElementException, ElementNotInteractableException  #(클릭시 없을때, 엘리멘트 자체가 없을떄, 엘리멘트가 상호작용을 못할때 )\n",
    "import os\n",
    "import shutil \n",
    "from urllib.request import urlretrieve\n",
    "import re\n",
    "\n",
    "\n",
    "\n",
    "#웹브라우저를 띄우지 않고 진행하기 위한 설정\n",
    "chrome_options = webdriver.ChromeOptions()\n",
    "chrome_options.add_argument('--headless')\n",
    "chrome_options.add_argument('--no-sandbox')\n",
    "chrome_options.add_argument('--disable-dev-shm-usage')"
   ]
  },
  {
   "cell_type": "markdown",
   "id": "6e9ff260",
   "metadata": {},
   "source": [
    "### get_politician_info(dir_name, wd) : 국회의원 정보 스크래핑"
   ]
  },
  {
   "cell_type": "code",
   "execution_count": 2,
   "id": "503188a8",
   "metadata": {},
   "outputs": [],
   "source": [
    "def get_politician_info(dir_name, wd):\n",
    "    profile_info = wd.find_element(By.CSS_SELECTOR, '#contents > div.sp-person.contents > section.person-info.spacial-page.cl')\n",
    "    cols = profile_info.find_elements(By.TAG_NAME, 'dt')\n",
    "    columns = [col.text for col in cols]\n",
    "    \n",
    "    infos = profile_info.find_elements(By.TAG_NAME, 'dd')\n",
    "    detail_info = [info.text for info in infos]\n",
    "    \n",
    "    info_dic = {col:info for col, info in zip(columns, detail_info)}\n",
    "    \n",
    "    return info_dic"
   ]
  },
  {
   "cell_type": "markdown",
   "id": "8f79fac9",
   "metadata": {},
   "source": [
    "### get_news_quote(dir_name, name, wd): 뉴스 인용문 스크래핑"
   ]
  },
  {
   "cell_type": "code",
   "execution_count": 4,
   "id": "ae866cfa",
   "metadata": {},
   "outputs": [
    {
     "ename": "IndentationError",
     "evalue": "unexpected indent (Temp/ipykernel_3016/3045516929.py, line 24)",
     "output_type": "error",
     "traceback": [
      "\u001b[1;36m  File \u001b[1;32m\"C:\\Users\\Cha\\AppData\\Local\\Temp/ipykernel_3016/3045516929.py\"\u001b[1;36m, line \u001b[1;32m24\u001b[0m\n\u001b[1;33m    if news_count >= news_max:\u001b[0m\n\u001b[1;37m    ^\u001b[0m\n\u001b[1;31mIndentationError\u001b[0m\u001b[1;31m:\u001b[0m unexpected indent\n"
     ]
    }
   ],
   "source": [
    "def get_news_quote(dir_name, name, wd, news_max = 3):\n",
    "    \n",
    "    page_no = 0\n",
    "    news_count = 0\n",
    "    news_total = wd.find_element(By.ID, 'newsInQoutTotalCount').text[1:-2]\n",
    "    news_file = open(dir_name + '/' + name + '뉴스 인용문.txt','w')\n",
    "    \n",
    "    while True:\n",
    "        try:\n",
    "            page_no += 1\n",
    "            print(f\"뉴스 인용문 {page_no} 페이지)\")\n",
    "            box_list = wd.find_element(By.ID, 'newsInQuotList')\n",
    "            quotoes = box_list.find_elements(By.CLASS_NAME, 'title')\n",
    "            \n",
    "            for quoto in quotoes:\n",
    "                news_file.write(quoto.text + '\\n')\n",
    "                news_count += 1\n",
    "                print(f\"{news_count}/{news_total}\", [quote.text])\n",
    "                \n",
    "            paging = wd.find_element(By.ID, 'newsInQuotListPaging')\n",
    "            pagination = paging.find_element(By.CSS_SELECTOR, '#newsInQuotListPaging > a.page-next.page-link').click()\n",
    "            time.sleep(1)\n",
    "            \n",
    "                if news_count >= news_max:\n",
    "                    break\n",
    "                    \n",
    "            if news_count >= news_max:\n",
    "                break\n",
    "\n",
    "            next_button = paging.find_element(By.CSS_SELECTOR, '#newsInQuotListPaging > a.page-next.page-link')\n",
    "            if next_button.get_attribute('onclick') == None:\n",
    "                break\n",
    "                \n",
    "        except Exception as e:\n",
    "            print(e)\n",
    "            break\n",
    "            \n",
    "    news_file.close()"
   ]
  },
  {
   "cell_type": "markdown",
   "id": "6721cc41",
   "metadata": {},
   "source": [
    "### scraping(): 스크래핑 함수"
   ]
  },
  {
   "cell_type": "code",
   "execution_count": null,
   "id": "88bfe863",
   "metadata": {},
   "outputs": [],
   "source": []
  },
  {
   "cell_type": "code",
   "execution_count": null,
   "id": "48e112b7",
   "metadata": {},
   "outputs": [],
   "source": [
    "def scraping(dir_name, politician_max=3):\n",
    "    page_no = 0\n",
    "    politician_count = 0\n",
    "    politician_df = pd.DataFrame()\n",
    "    \n",
    "    wd = webdriver.Chrome('chromedriver', options=chrome_options)\n",
    "    wd.execute_script('window.open(\"about:blank\", \"_blank\");')\n",
    "    tabs = wd.window_handles\n",
    "    \n",
    "    while True:\n",
    "        \n",
    "        try:\n",
    "            page_no += 1\n",
    "            wd.switch_to.window(tabs[0])\n",
    "\n",
    "            url = f\"https://www.bigkinds.or.kr/v2/depthAnalysis/assembly.do?page={page_no}\"\n",
    "            wd.get(url)\n",
    "\n",
    "            politician_total = wd.find_element(By.XPATH, '//*[@id=\"contents\"]/section[1]/div/div/div[1]/div[2]').text\n",
    "            politician_items = wd.find_elements(By.CSS_SELECTOR, '#contents > section.spacial-person.spacial-page > div > ul > li')\n",
    "\n",
    "            if not politician_items:\n",
    "                break\n",
    "\n",
    "            for item in politician_items:\n",
    "                wd.switch_to.window(tabs[0])\n",
    "\n",
    "                politician_count += 1\n",
    "\n",
    "                print('--------------------------------------')\n",
    "                print(f\"[국회의원 {politician_count}/{politician_total}명]\" )\n",
    "                name = item.find_element(By.CLASS_NAME, 'sp-kname').text\n",
    "    #             name = name[:3] 이름 자를때 쓰자!\n",
    "#                 print(name)\n",
    "                \n",
    "                detail_link = item.find_element(By.TAG_NAME, 'a').get_attribute('href')\n",
    "#                 print(detail_link)\n",
    "                wd.switch_to.window(tabs[1])\n",
    "                wd.get(detail_link)\n",
    "                \n",
    "                print(\"[프로필 이미지 다운로드]\")\n",
    "                profile_image = wd.find_element(By.CLASS_NAME, 'thumb')\n",
    "                image_src = profile_image.find_element(By.TAG_NAME, 'img').get_attribute('src')\n",
    "                file_name = dir_name + '/' + name + '.jpg'\n",
    "                print(file_name)\n",
    "                urlretrieve(image_src, file_name)\n",
    "                \n",
    "                print(\"[기본 정보 스크래핑]\")\n",
    "                politician_dic = get_politician_info(dir_name, wd)\n",
    "                print(\"    \",politician_dic)\n",
    "                politician_df = politician_df.append(politician_dic, ignore_index=True)\n",
    "                \n",
    "                print(\"[뉴스 인용문 스크래핑]\")\n",
    "                tab = wd.find_element(By.CSS_SELECTOR, 'li.analysisTab-01.ui-state-active').find_element(By.TAG_NAME, 'a').click()\n",
    "                get_news_quote(dir_name, name, wd)\n",
    "                \n",
    "    \n",
    "\n",
    "                if politician_count >= politician_max:\n",
    "                    break\n",
    "            if politician_count >= politician_max:\n",
    "                    break\n",
    "        except AttributeError as e:\n",
    "            print(e)\n",
    "            break\n",
    "            \n",
    "        except NoSuchElementException as e:\n",
    "            print(e)\n",
    "            break\n",
    "    \n",
    "    wd.close()\n",
    "    \n",
    "    return politician_df\n"
   ]
  },
  {
   "cell_type": "markdown",
   "id": "47ef7082",
   "metadata": {},
   "source": [
    "### 스크래핑 시작"
   ]
  },
  {
   "cell_type": "code",
   "execution_count": null,
   "id": "51975529",
   "metadata": {},
   "outputs": [],
   "source": [
    "dir_name = './politicial' #폴더 생성\n",
    "if os.path.isdir(dir_name): #폴더가 있으면\n",
    "    shutil.rmtree(dir_name) #지움\n",
    "\n",
    "os.makedirs(dir_name)\n",
    "print(f\"'DIR_NAME': {dir_name} 디렉토리 생성\")\n",
    "\n",
    "politician_df = scraping(dir_name)"
   ]
  },
  {
   "cell_type": "code",
   "execution_count": null,
   "id": "9ad774c4",
   "metadata": {},
   "outputs": [],
   "source": [
    "politician_df"
   ]
  },
  {
   "cell_type": "code",
   "execution_count": null,
   "id": "f7489574",
   "metadata": {},
   "outputs": [],
   "source": []
  },
  {
   "cell_type": "code",
   "execution_count": null,
   "id": "f0ece937",
   "metadata": {},
   "outputs": [],
   "source": []
  },
  {
   "cell_type": "code",
   "execution_count": null,
   "id": "9129d0db",
   "metadata": {},
   "outputs": [],
   "source": []
  }
 ],
 "metadata": {
  "kernelspec": {
   "display_name": "Python 3 (ipykernel)",
   "language": "python",
   "name": "python3"
  },
  "language_info": {
   "codemirror_mode": {
    "name": "ipython",
    "version": 3
   },
   "file_extension": ".py",
   "mimetype": "text/x-python",
   "name": "python",
   "nbconvert_exporter": "python",
   "pygments_lexer": "ipython3",
   "version": "3.10.0"
  }
 },
 "nbformat": 4,
 "nbformat_minor": 5
}
