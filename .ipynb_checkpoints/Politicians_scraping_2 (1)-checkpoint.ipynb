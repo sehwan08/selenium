{
 "cells": [
  {
   "cell_type": "code",
   "execution_count": 3,
   "id": "139ad9c6",
   "metadata": {
    "id": "139ad9c6"
   },
   "outputs": [],
   "source": [
    "import selenium\n",
    "from selenium import webdriver\n",
    "from selenium.webdriver.common.keys import Keys\n",
    "from selenium.webdriver.common.by import By\n",
    "import time\n",
    "import pandas as pd\n",
    "from selenium.common.exceptions import ElementClickInterceptedException, NoSuchElementException, ElementNotInteractableException  #(클릭시 없을때, 엘리멘트 자체가 없을떄, 엘리멘트가 상호작용을 못할때 )\n",
    "import os\n",
    "import shutil \n",
    "from urllib.request import urlretrieve\n",
    "import re\n",
    "\n",
    "\n",
    "\n",
    "#웹브라우저를 띄우지 않고 진행하기 위한 설정\n",
    "chrome_options = webdriver.ChromeOptions()\n",
    "chrome_options.add_argument('--headless')\n",
    "chrome_options.add_argument('--no-sandbox')\n",
    "chrome_options.add_argument('--disable-dev-shm-usage')"
   ]
  },
  {
   "cell_type": "code",
   "execution_count": null,
   "id": "ZRY-Xaq7dtAG",
   "metadata": {
    "id": "ZRY-Xaq7dtAG"
   },
   "outputs": [],
   "source": [
    "!pip install selenium\n",
    "!apt-get update\n",
    "!apt install chromium-chromedriver\n",
    "!cp /usr/lib/chromium-browser/chromedriver /usr/bin\n",
    " \n",
    "# -*- coding: UTF-8 -*-\n",
    "import time\n",
    "from selenium import webdriver"
   ]
  },
  {
   "cell_type": "markdown",
   "id": "4c955319",
   "metadata": {
    "id": "4c955319"
   },
   "source": [
    "### get_politician_info(dir_name, wd) : 국회의원 정보 스크래핑"
   ]
  },
  {
   "cell_type": "code",
   "execution_count": 4,
   "id": "71a1336a",
   "metadata": {
    "id": "71a1336a"
   },
   "outputs": [],
   "source": [
    "def get_politician_info(dir_name, wd):\n",
    "    profile_info = wd.find_element(By.CSS_SELECTOR, '#contents > div.sp-person.contents > section.person-info.spacial-page.cl')\n",
    "    cols = profile_info.find_elements(By.TAG_NAME, 'dt')\n",
    "    columns = [col.text for col in cols]\n",
    "    \n",
    "    infos = profile_info.find_elements(By.TAG_NAME, 'dd')\n",
    "    detail_info = [info.text for info in infos]\n",
    "    \n",
    "    info_dic = {col:info for col, info in zip(columns, detail_info)}\n",
    "    \n",
    "    return info_dic"
   ]
  },
  {
   "cell_type": "markdown",
   "id": "8b62c610",
   "metadata": {
    "id": "8b62c610"
   },
   "source": [
    "### get_news_quote(dir_name, name, wd): 뉴스 인용문 스크래핑"
   ]
  },
  {
   "cell_type": "code",
   "execution_count": 5,
   "id": "5acdf275",
   "metadata": {
    "id": "5acdf275"
   },
   "outputs": [],
   "source": [
    "def get_news_quote(dir_name, name, wd, news_max = 3):\n",
    "    \n",
    "    page_no = 0\n",
    "    news_count = 0\n",
    "    news_total = wd.find_element(By.ID, 'newsInQoutTotalCount').text[1:-2]\n",
    "    news_file = open(dir_name + '/' + name + '뉴스 인용문.txt','w',encoding='UTF8')\n",
    "    \n",
    "    while True:\n",
    "        try:\n",
    "            page_no += 1\n",
    "            print(f\"---------(뉴스 인용문 {page_no} 페이지)----------\")\n",
    "            time.sleep(1)\n",
    "            \n",
    "            box_list = wd.find_element(By.ID, 'newsInQuotList')\n",
    "            quotoes = box_list.find_elements(By.CLASS_NAME, 'title')\n",
    "            \n",
    "            \n",
    "            for quoto in quotoes:\n",
    "                news_file.write(quoto.text + '\\n')\n",
    "                news_count += 1\n",
    "                print(f\"{news_count}/{news_total}\", [quoto.text])\n",
    "                print()\n",
    "                if news_count >= news_max:\n",
    "                    break\n",
    "\n",
    "\n",
    "            paging = wd.find_element(By.ID, 'newsInQuotListPaging')\n",
    "\n",
    "            next_button = paging.find_element(By.CSS_SELECTOR, '#newsInQuotListPaging > a.page-next.page-link')\n",
    "            if next_button.get_attribute('onclick') == None:\n",
    "                break\n",
    "                    \n",
    "                         \n",
    "            pagination = paging.find_element(By.CSS_SELECTOR, '#newsInQuotListPaging > a.page-next.page-link').click()\n",
    "            time.sleep(3)\n",
    "\n",
    "                    \n",
    "            if news_count >= news_max:\n",
    "                break\n",
    "                \n",
    "\n",
    "        except Exception as e:\n",
    "            print(e)\n",
    "            break\n",
    "            \n",
    "    news_file.close()"
   ]
  },
  {
   "cell_type": "markdown",
   "id": "25a22f69",
   "metadata": {
    "id": "25a22f69"
   },
   "source": [
    "### get_record_quote(dir_name, name, wd) : 국회의원 회의록 인용문"
   ]
  },
  {
   "cell_type": "code",
   "execution_count": 79,
   "id": "dcb7dae4",
   "metadata": {
    "id": "dcb7dae4"
   },
   "outputs": [],
   "source": [
    "def get_record_quote(dir_name, name, wd, record_max = 3):\n",
    "    page_no = 0\n",
    "    record_count = 0\n",
    "    total_page = wd.find_element(By.CSS_SELECTOR, '#recordTableListPaging > span.total').text\n",
    "#     print(count_records)\n",
    "    total_page = int(total_page)\n",
    "    count_records = wd.find_element(By.ID, 'recordTableList').find_elements(By.TAG_NAME,'tr')\n",
    "    count_records = len(count_records)\n",
    "    \n",
    "    totals = total_page * count_records\n",
    "    \n",
    "    record_file = open(dir_name + '/' + name + '회의록 인용문.txt','w', encoding='UTF8')\n",
    "    \n",
    "    while True:\n",
    "        try:\n",
    "            page_no += 1\n",
    "            print(f\"---------(회의록 인용문 {page_no} 페이지)----------\")\n",
    "            \n",
    "            \n",
    "            record_table = wd.find_element(By.ID, 'recordTableList')\n",
    "            record_list = record_table.find_elements(By.TAG_NAME, 'a')\n",
    "            \n",
    "            for record in record_list:\n",
    "                record.click()\n",
    "                time.sleep(3)\n",
    "                \n",
    "                qoute_list = wd.find_element(By.ID, 'birefTableList')\n",
    "                quotoes = qoute_list.find_elements(By.TAG_NAME, 'li')\n",
    "\n",
    "                last_txt = \"\"\n",
    "                for quoto in quotoes:\n",
    "                    last_txt = quoto.text\n",
    "                    record_file.write(quoto.text + '\\n')\n",
    "                    \n",
    "                record_count += 1\n",
    "                print(f\"{record_count}/{totals}\", record.text, last_txt) # quotoes가 비어있을 때 오류가 뜹니다, 일단 이렇게 처리하기는 했지만 길이 체크하거나 하는 수정이 필요할 것 같습니다.\n",
    "                print()\n",
    "                \n",
    "                if record_count >= record_max:\n",
    "                    break\n",
    "                    \n",
    "\n",
    "\n",
    "            # 수정!\n",
    "            next_button = wd.find_element(By.CSS_SELECTOR, '#recordTableListPaging > a.page-next.page-link')\n",
    "            if next_button.get_attribute('onclick') == None:\n",
    "                break\n",
    "                \n",
    "            wd.execute_script(next_button.get_attribute('onclick'))\n",
    "            time.sleep(3)\n",
    "\n",
    "                    \n",
    "            if record_count >= record_max:\n",
    "                break\n",
    "                \n",
    "\n",
    "        except Exception as e:\n",
    "            raise e # 스택 확인\n",
    "            print(e)\n",
    "            break\n",
    "            \n",
    "    record_file.close()"
   ]
  },
  {
   "cell_type": "markdown",
   "id": "1bb70bd7",
   "metadata": {
    "id": "1bb70bd7"
   },
   "source": [
    "### scraping(): 스크래핑 함수"
   ]
  },
  {
   "cell_type": "code",
   "execution_count": 80,
   "id": "9a4f11b9",
   "metadata": {
    "id": "9a4f11b9"
   },
   "outputs": [],
   "source": [
    "def scraping(dir_name, politician_max=3):\n",
    "    page_no = 0\n",
    "    politician_count = 0\n",
    "    politician_df = pd.DataFrame()\n",
    "    \n",
    "    wd = webdriver.Chrome('chromedriver', options=chrome_options)\n",
    "    wd.execute_script('window.open(\"about:blank\", \"_blank\");')\n",
    "    tabs = wd.window_handles\n",
    "    \n",
    "    while True:\n",
    "        \n",
    "        try:\n",
    "            page_no += 1\n",
    "            wd.switch_to.window(tabs[0])\n",
    "\n",
    "            url = f\"https://www.bigkinds.or.kr/v2/depthAnalysis/assembly.do?page={page_no}\"\n",
    "            wd.get(url)\n",
    "\n",
    "            politician_total = wd.find_element(By.XPATH, '//*[@id=\"contents\"]/section[1]/div/div/div[1]/div[2]').text\n",
    "            politician_items = wd.find_elements(By.CSS_SELECTOR, '#contents > section.spacial-person.spacial-page > div > ul > li')\n",
    "\n",
    "            if not politician_items:\n",
    "                break\n",
    "\n",
    "            for item in politician_items[1:]: # 빠른 테스트를 위해 두번째 의원부터\n",
    "                wd.switch_to.window(tabs[0])\n",
    "\n",
    "                politician_count += 1\n",
    "\n",
    "                print('--------------------------------------')\n",
    "                print(f\"[국회의원 {politician_count}/{politician_total}명]\" )\n",
    "                name = item.find_element(By.CLASS_NAME, 'sp-kname').text\n",
    "    #             name = name[:3] 이름 자를때 쓰자!\n",
    "                print(name)\n",
    "                \n",
    "                detail_link = item.find_element(By.TAG_NAME, 'a').get_attribute('href')\n",
    "#                 print(detail_link)\n",
    "                wd.switch_to.window(tabs[1])\n",
    "                wd.get(detail_link)\n",
    "                time.sleep(1)\n",
    "                \n",
    "                # 테스트로 잠시 주석\n",
    "                # print(\"[프로필 이미지 다운로드]\")\n",
    "                # profile_image = wd.find_element(By.CLASS_NAME, 'thumb')\n",
    "                # image_src = profile_image.find_element(By.TAG_NAME, 'img').get_attribute('src')\n",
    "                # file_name = dir_name + '/' + name + '.jpg'\n",
    "                # print(file_name)\n",
    "                # urlretrieve(image_src, file_name)\n",
    "                \n",
    "                # 테스트로 잠시 주석\n",
    "                # print(\"[기본 정보 스크래핑]\")\n",
    "                # politician_dic = get_politician_info(dir_name, wd)\n",
    "                # print(\"    \",politician_dic)\n",
    "                # politician_df = politician_df.append(politician_dic, ignore_index=True)\n",
    "                \n",
    "                # 테스트로 잠시 주석\n",
    "                # print(\"[뉴스 인용문 스크래핑]\")\n",
    "                # tab = wd.find_element(By.CSS_SELECTOR, 'li.analysisTab-01.ui-state-active').find_element(By.TAG_NAME, 'a').click()\n",
    "                # time.sleep(1)\n",
    "                # get_news_quote(dir_name, name, wd)\n",
    "                \n",
    "                \n",
    "                print(\"[회의록 인용문 스크래핑]\")\n",
    "                time.sleep(3) # 찾기 전에 sleep\n",
    "                another_tab = wd.find_element(By.CSS_SELECTOR, '#contents > div.sp-person.contents > section.person-desc.spacial-page > div > ul > li:nth-child(2) > a').send_keys(Keys.ENTER)\n",
    "                # time.sleep(3)\n",
    "                get_record_quote(dir_name, name, wd)\n",
    "                \n",
    "    \n",
    "\n",
    "                if politician_count >= politician_max:\n",
    "                    break\n",
    "            if politician_count >= politician_max:\n",
    "                    break\n",
    "        except AttributeError as e:\n",
    "            print(e)\n",
    "            break\n",
    "            \n",
    "        except NoSuchElementException as e:\n",
    "            print(e)\n",
    "            break\n",
    "    \n",
    "    wd.close()\n",
    "    \n",
    "    return politician_df\n"
   ]
  },
  {
   "cell_type": "markdown",
   "id": "cea676ea",
   "metadata": {
    "id": "cea676ea"
   },
   "source": [
    "### 스크래핑 시작"
   ]
  },
  {
   "cell_type": "code",
   "execution_count": 81,
   "id": "f73c75d7",
   "metadata": {
    "colab": {
     "base_uri": "https://localhost:8080/"
    },
    "id": "f73c75d7",
    "outputId": "e2dc2408-b8c6-4d92-ab4e-008948f67432",
    "scrolled": false
   },
   "outputs": [
    {
     "name": "stdout",
     "output_type": "stream",
     "text": [
      "'DIR_NAME': ./politicial 디렉토리 생성\n",
      "--------------------------------------\n",
      "[국회의원 1/295명]\n",
      "강대식(姜大植)\n",
      "[회의록 인용문 스크래핑]\n",
      "---------(회의록 인용문 1 페이지)----------\n",
      "1/50 제392회국회(임시회) 국회본회의회의록(임 시 회 의 록 ) 제 2 호 존경하는 박병석 국회의장님 그리고 선배․동료 의원 여러분! 국방위원회 강대식 위원입니다. 우리 위원회에서 심사한 7건의 법률안에 대하여 제안설명 및 심사보고를 간략히 드리도록 하겠습니다. 한기호 의원 대표발의안 등 2건의 군무원인사법 일부개정법률안은 군 복무 중 다른 군인에게본보기가 될 만한 행위를 한 군인의 경우 그 신체장애 여부와 관계없이 경력경쟁채용으로 군무원에 지원할 수 있도록 각 법률안의 내용을 통합조정하여 우리 위원회 대안으로 제안하였고, 기동민 의원 대표발의안 등 2건의 군인 재해보상법일부개정법률안은 외모에 뚜렷한 흉터가 남은 남성에 대해서도 여성과 동일한 장해기준을 적용할수 있도록 법률안의 내용을 통합 조정하여 우리 위원회 대안으로 제안하였습니다. 박성준 의원이 대표발의한 군보건의료에 관한 법률 일부개정법률안은 응급처치 교육을 이수한 군인 등이 전시․ 사변 등의 경우 응급처치를 할 수 있는 근거를 마련하는 내용으로 수정하여 의결하였고, 김도읍 의원이 대표발의한 군인연금법 일부개정법률안은 유족연금을 수급할 수 있는 자녀 등의 연령을 25세 미만으로 확대하는 내용으로 유족연금의 수급권 상실 연령 규정도 이에 맞춰 수정 의결하였습니다. 김진표 의원이 대표발의한 방위사업법 일부개정법률안은 양산 사업타당성조사를 연구개발 사업타당성조사에 포함하여 실시하도록 규정한 내용을 삭제하는 등 수정하여 의결하였고, 윤주경 의원 대표발의안 등 2건의 국방정보화 기반조성 및 국방정보자원관리에 관한 법률 일부개정법률안은 국방정보보호의 정의에 대비, 대응, 복구의 개념을 포함시키는 내용으로 통합 조정하여 우리 위원회 대안으로 제안하였습니다. 정부가 제출한 한국국방연구원법 일부개정법률안은 한국국방연구원이 수행하는 국방정보시스템의 유지․보수에 관한 법적 근거와 업무 범위를 보안 유지에 한정하는 등의 내용으로 수정하여 의결하였습니다. 자세한 사항은 자료를 참조해 주시고, 우리 위원회에서 제안 심사한 대로 의결해 주시면 고맙겠습니다. 감사합니다.(대안 및 심사보고서는 부록으로 보존함)\n",
      "\n",
      "2/50 제392회국회(임시회) 국 방 위 원 회 회 의 록(임 시 회 의 록 ) 제 1 호 예.\n",
      "\n",
      "3/50 제392회국회(임시회) 정치개혁특별위원회회의록정치개혁특별위원회회의록(공직선거법및지방선거구제개편심사소위원회)(임 시 회 의 록 ) 제 2 호 \n",
      "\n",
      "--------------------------------------\n",
      "[국회의원 2/295명]\n",
      "강득구(姜得求)\n",
      "[회의록 인용문 스크래핑]\n",
      "---------(회의록 인용문 1 페이지)----------\n",
      "1/60 제391회국회(정기회) 예산결산특별위원회회의록(결산심사소위원회)(임 시 회 의 록 ) 제 7 호 허영 위원님이랑 김승수 위원님수고 많으셨습니다. 결산 결과가 여러 가지 시정요구도 나왔지만이것을 통해서 제대로 제도개선해서 예산이, 다음 연도에는 좀 더 적절성과 그리고 시의성들이잘 반영될 수 있는 좋은 자료가 되기를 바라고희망합니다. 이상입니다.\n",
      "\n",
      "2/60 제391회국회(정기회) 예산결산특별위원회회의록(예산안등조정소위원회)(임 시 회 의 록 ) 제 5 호 차관님……\n",
      "\n",
      "3/60 제391회국회(정기회) 예산결산특별위원회회의록(예산안등조정소위원회)(임 시 회 의 록 ) 제 4 호 이상입니다.\n",
      "\n",
      "--------------------------------------\n",
      "[국회의원 3/295명]\n",
      "강민국(姜旻局)\n",
      "[회의록 인용문 스크래핑]\n",
      "---------(회의록 인용문 1 페이지)----------\n",
      "1/60 제392회국회(임시회) 정치개혁특별위원회회의록(임 시 회 의 록 ) 제 2 호 그렇지요. 자치단체장이 임명을합니다. 그런데 그분들이 과연 정치적 중립성으로부터 자유로울 수 있느냐? 당내 경선이나 선거운동의 정치적 중립성으로부터 자유로울 수 있느냐? 이것 굉장히 고민해야 할 부분입니다. 저는 너무나 많이 봐 왔습니다, 저는 지방에있었기 때문에. 도지사가 바뀌면 다 바뀌어요, 그냥. 그리고 거기에 눈치를 안 보는 사람이 없습니다. 그게 현실입니다. 헌법재판소가 너무나 이거는 이론에 매몰된, 정말 탁상행정 한 부분이아니냐…… (발언시간 초과로 마이크 중단) (마이크 중단 이후 계속 발언한 부분)이것을 중앙선거관리위원회에서 이런 부분의 완충역할을, 어떤 방법을 좀 만들어 주셔야 되지 않겠느냐라는 생각이 들거든요. 총장님, 간단하게 답변 한번 해 주시지요.\n",
      "\n",
      "2/60 제391회국회(정기회) 정치개혁특별위원회회의록(임 시 회 의 록 ) 제 1 호 경남 진주, 강한 대한민국 강민국입니다. 이번 정개특위가 정말 국익에 도움이 되는, 대한민국 정치 체제 개편을 찾기 위한 그런 의미 있는 위원회가 됐으면 좋겠다는 생각이고요. 아무래도 저 개인적으로는, 2018년도에 헌법재판소에서 광역의원 선거구 인구하한선을 3 대 1로 상향 조정했는데 어쨌든 인구 규모 중심보다는 실제로 농어촌이 처한 여건 그리고 지방자치제도 또 지역균형발전이라는 그런 단어가 현실화될 수 있는 그런 의미 있는 위원회가 됐으면 좋겠다라는 생각입니다. 이상입니다.\n",
      "\n",
      "3/60 제391회국회(정기회) 중앙선거관리위원회위원(문상부)선출에관한인사청문특별위원회회의록(임 시 회 의 록 ) 제 2 호 인품이나 전문성으로 볼 때 문상부 후보가 가장 적합한 인물이 아닌가라는 생각을 본 위원은 하고 있습니다. 특히 중앙선거관리위원이라는 공백 상태도 계속되고 있는 상태고 실제로 당장 내년 3월 대선과 6월 지방선거를 볼 때 계속 공백으로 놔둘 수 없는 자리다, 그런 중앙선거관리위원회의 중요성을 볼 때 우리 여야 간사님들께서 합리적인 분들이고 또 공정선거 또 국가의 미래를 걱정하시는 분들이기 때문에 원만한 합의를 이끌어 줬으면 좋겠다라는 생각을 가지고 있습니다. 이상입니다.\n",
      "\n"
     ]
    }
   ],
   "source": [
    "dir_name = './politicial' #폴더 생성\n",
    "if os.path.isdir(dir_name): #폴더가 있으면\n",
    "    shutil.rmtree(dir_name) #지움\n",
    "\n",
    "os.makedirs(dir_name)\n",
    "print(f\"'DIR_NAME': {dir_name} 디렉토리 생성\")\n",
    "\n",
    "politician_df = scraping(dir_name)"
   ]
  },
  {
   "cell_type": "code",
   "execution_count": null,
   "id": "c41f9646",
   "metadata": {
    "id": "c41f9646",
    "outputId": "c7729052-398c-45ad-cf3b-fefca3b9556e"
   },
   "outputs": [
    {
     "data": {
      "text/html": [
       "<div>\n",
       "<style scoped>\n",
       "    .dataframe tbody tr th:only-of-type {\n",
       "        vertical-align: middle;\n",
       "    }\n",
       "\n",
       "    .dataframe tbody tr th {\n",
       "        vertical-align: top;\n",
       "    }\n",
       "\n",
       "    .dataframe thead th {\n",
       "        text-align: right;\n",
       "    }\n",
       "</style>\n",
       "<table border=\"1\" class=\"dataframe\">\n",
       "  <thead>\n",
       "    <tr style=\"text-align: right;\">\n",
       "      <th></th>\n",
       "      <th>지역구</th>\n",
       "      <th>당선기록</th>\n",
       "      <th>소속위원회</th>\n",
       "      <th>사무실전화</th>\n",
       "      <th>보좌관</th>\n",
       "      <th>이메일주소</th>\n",
       "      <th>홈페이지</th>\n",
       "      <th>경력</th>\n",
       "    </tr>\n",
       "  </thead>\n",
       "  <tbody>\n",
       "    <tr>\n",
       "      <th>0</th>\n",
       "      <td>경남 창원시성산구</td>\n",
       "      <td>재선(19대, 21대)</td>\n",
       "      <td>보건복지위원회</td>\n",
       "      <td>02-784-1751</td>\n",
       "      <td>김홍광 , 한영애</td>\n",
       "      <td>ggotop@naver.com</td>\n",
       "      <td>http://blog.naver.com/ggotop</td>\n",
       "      <td>[학력] 마산공고(26회) 창원대학교 행정학과 중앙대학교 행정대학원 지방의회과 석사...</td>\n",
       "    </tr>\n",
       "    <tr>\n",
       "      <th>1</th>\n",
       "      <td>대구 동구을</td>\n",
       "      <td>초선(21대)</td>\n",
       "      <td>국방위원회 , 정치개혁 특별위원회</td>\n",
       "      <td>02-784-5275</td>\n",
       "      <td>박홍규 , 정운태</td>\n",
       "      <td>kds21341@naver.com</td>\n",
       "      <td></td>\n",
       "      <td>[학력] 송정초등학교 안심중학교 경북대학교 사범대학 부속고등학교 영남대학교 경영대학...</td>\n",
       "    </tr>\n",
       "    <tr>\n",
       "      <th>2</th>\n",
       "      <td>경기 안양시만안구</td>\n",
       "      <td>초선(21대)</td>\n",
       "      <td>교육위원회 , 예산결산특별위원회</td>\n",
       "      <td>02-784-2747~9</td>\n",
       "      <td>서용선 , 안홍식</td>\n",
       "      <td>mainsail440@daum.net</td>\n",
       "      <td>https://blog.naver.com/dulipapa</td>\n",
       "      <td>2018. 10. ~ 2019. 5. 민주연구원 자치발전연구센터 본부장 2016. ...</td>\n",
       "    </tr>\n",
       "  </tbody>\n",
       "</table>\n",
       "</div>"
      ],
      "text/plain": [
       "         지역구          당선기록               소속위원회          사무실전화        보좌관  \\\n",
       "0  경남 창원시성산구  재선(19대, 21대)             보건복지위원회    02-784-1751  김홍광 , 한영애   \n",
       "1     대구 동구을       초선(21대)  국방위원회 , 정치개혁 특별위원회    02-784-5275  박홍규 , 정운태   \n",
       "2  경기 안양시만안구       초선(21대)   교육위원회 , 예산결산특별위원회  02-784-2747~9  서용선 , 안홍식   \n",
       "\n",
       "                  이메일주소                             홈페이지  \\\n",
       "0      ggotop@naver.com     http://blog.naver.com/ggotop   \n",
       "1    kds21341@naver.com                                    \n",
       "2  mainsail440@daum.net  https://blog.naver.com/dulipapa   \n",
       "\n",
       "                                                  경력  \n",
       "0  [학력] 마산공고(26회) 창원대학교 행정학과 중앙대학교 행정대학원 지방의회과 석사...  \n",
       "1  [학력] 송정초등학교 안심중학교 경북대학교 사범대학 부속고등학교 영남대학교 경영대학...  \n",
       "2  2018. 10. ~ 2019. 5. 민주연구원 자치발전연구센터 본부장 2016. ...  "
      ]
     },
     "execution_count": 7,
     "metadata": {},
     "output_type": "execute_result"
    }
   ],
   "source": [
    "politician_df"
   ]
  },
  {
   "cell_type": "code",
   "execution_count": null,
   "id": "e6594f26",
   "metadata": {
    "id": "e6594f26"
   },
   "outputs": [],
   "source": [
    ""
   ]
  },
  {
   "cell_type": "code",
   "execution_count": null,
   "id": "85b89b98",
   "metadata": {
    "id": "85b89b98"
   },
   "outputs": [],
   "source": [
    ""
   ]
  },
  {
   "cell_type": "code",
   "execution_count": null,
   "id": "fd6717ab",
   "metadata": {
    "id": "fd6717ab"
   },
   "outputs": [],
   "source": [
    ""
   ]
  }
 ],
 "metadata": {
  "colab": {
   "collapsed_sections": [],
   "name": "Politicians_scraping 2.ipynb",
   "provenance": []
  },
  "kernelspec": {
   "display_name": "Python 3 (ipykernel)",
   "language": "python",
   "name": "python3"
  },
  "language_info": {
   "codemirror_mode": {
    "name": "ipython",
    "version": 3
   },
   "file_extension": ".py",
   "mimetype": "text/x-python",
   "name": "python",
   "nbconvert_exporter": "python",
   "pygments_lexer": "ipython3",
   "version": "3.10.0"
  }
 },
 "nbformat": 4,
 "nbformat_minor": 5
}
