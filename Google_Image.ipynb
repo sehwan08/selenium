{
 "cells": [
  {
   "cell_type": "code",
   "execution_count": 4,
   "id": "b5a71c79",
   "metadata": {},
   "outputs": [],
   "source": [
    "import selenium\n",
    "from selenium import webdriver\n",
    "from selenium.webdriver.common.keys import Keys\n",
    "from selenium.webdriver.common.by import By\n",
    "import time\n",
    "import pandas as pd\n",
    "#셀레니엄 예외처리용\n",
    "from selenium.common.exceptions import ElementClickInterceptedException, NoSuchElementException, ElementNotInteractableException  #(클릭시 없을때, 엘리멘트 자체가 없을떄, 엘리멘트가 상호작용을 못할때 )\n",
    "import os #이미지 파일 다운로드 제어 용\n",
    "import socket #소켓 에러 방지용\n",
    "from urllib.request import urlretrieve #이미지 다운로드 라이브러리\n",
    "from urllib.error import HTTPError, URLError #각종 에러 방지 라이브러리 (HTTP/URL 에러 방지)\n",
    "from PIL import Image # 이미지를 사용가능하도록 처리 하는 라이브러리\n",
    "\n",
    "\n",
    "\n",
    "#웹브라우저를 띄우지 않고 진행하기 위한 설정\n",
    "chrome_options = webdriver.ChromeOptions()\n",
    "chrome_options.add_argument('--headless')\n",
    "chrome_options.add_argument('--no-sandbox')\n",
    "chrome_options.add_argument('--disable-dev-shm-usage')"
   ]
  },
  {
   "cell_type": "markdown",
   "id": "acc673dd",
   "metadata": {},
   "source": [
    "### scroll_down(): 스크롤을 내리는 함수"
   ]
  },
  {
   "cell_type": "code",
   "execution_count": 5,
   "id": "e737c9d4",
   "metadata": {},
   "outputs": [],
   "source": [
    "def scroll_down():\n",
    "    scroll_count = 0\n",
    "    pritn('[스크롤 다운 함수 시작!]')\n",
    "    \n",
    "    #스크롤을 내릴려면 위치값이 필요하다. 'execute_script()' 를 통해 스크롤 위치값(Height)을 가져 올 수 있음\n",
    "    last_height = wd.execute_script(\"return document.body.scrollHeight\")\n",
    "    after_click = False #스크롤을 계속내리다가 '더 보기'가 나오는지 체크용\n",
    "    \n",
    "    \n",
    "    while True:\n",
    "        print(f\"[스크롤 다운 중: {scroll_down}]\")\n",
    "        # 'scrollTo()' 함수를 써서 0부터 최대 위치값까지 스크롤을 함\n",
    "        wd.execute_script(\"window.scrollTo(0, document_body.scrollHeight);\")\n",
    "        scroll_count += 1 #스크롤이 최대로 갈때마다 카운트\n",
    "        time.sleep(1) #JS 액션이 실행되고 반응이 될때까지 기다릴 시간\n",
    "        \n",
    "        new_height = wd.execute_script(\"return document.body.scrollHeight\") # 최대값에 도달하면 스크롤이 다시 생성되니 거기서 다시 최대값 구함\n",
    "        \n",
    "        if last_height == new_height: #스크롤이 더이상 되지 않다면\n",
    "            if after_click is True: #'더 보기'가 나온다면..\n",
    "                break\n",
    "            else:\n",
    "                try:\n",
    "                    more_button = wd.find_element(By.XPATH, '//*[@id=\"islmp\"]/div/div/div/div[1]/div[2]/div[2]/input')\n",
    "                    if more_button.is_displayed(): # '더 보기' 버튼이 나오면\n",
    "                        more_button.click()\n",
    "                        time.sleep(1)\n",
    "                        after_click = True\n",
    "                except NoSuchElementException as e:\n",
    "                    print(e)\n",
    "                    break\n",
    "                    \n",
    "        last_height = new_height    "
   ]
  },
  {
   "cell_type": "markdown",
   "id": "913bbc62",
   "metadata": {},
   "source": [
    "### click_and_save(): 썸네일 이미지 선택 후 원본 이미지 저장"
   ]
  },
  {
   "cell_type": "code",
   "execution_count": 8,
   "id": "9ace7533",
   "metadata": {},
   "outputs": [],
   "source": [
    "def click_and_save(dir_name, index, img, img_list_length):\n",
    "    global scraped_count\n",
    "    \n",
    "    try:\n",
    "        img.click() #이미지를 클릭\n",
    "        wd.implicitly_wait(3) #클릭 후 로드 시간이 필요하므로 대기\n",
    "        src = wd.find_element(By.XPATH, '//*[@id=\"Sva75c\"]/div/div/div[3]/div[2]/c-wiz/div/div[1]/div[1]/div[2]/div/a/img').get_attribute('src')\n",
    "        if src.split('.')[-1] == 'png':\n",
    "            urlretrieve(src, dir_name + '/' + str(scraped_count + 1) + '.png')\n",
    "            print(f' {index+1} / {img_list_length} PNG 이미지 저장 완료!')\n",
    "        else:\n",
    "            urlretrieve(src, dir_name + '/' + str(scraped_count + 1) + '.jpg')\n",
    "            print(f' {index+1} / {img_list_length} JPG 이미지 저장 완료!')\n",
    "\n",
    "        scraped_count += 1\n",
    "    \n",
    "    except HTTPError as e:\n",
    "        print(e)\n",
    "        pass #PNG, JPG 이외는 다 제외\n",
    "    "
   ]
  },
  {
   "cell_type": "code",
   "execution_count": null,
   "id": "793f6b55",
   "metadata": {},
   "outputs": [],
   "source": []
  },
  {
   "cell_type": "code",
   "execution_count": null,
   "id": "64c30d1c",
   "metadata": {},
   "outputs": [],
   "source": []
  },
  {
   "cell_type": "markdown",
   "id": "0fcc139d",
   "metadata": {},
   "source": [
    "### scraping(): 구글 이미지 스크래핑 함수"
   ]
  },
  {
   "cell_type": "code",
   "execution_count": 9,
   "id": "1357bb17",
   "metadata": {},
   "outputs": [],
   "source": [
    "def scraping(dir_name, query):\n",
    "    global scraped_count\n",
    "    \n",
    "    url = f'https://www.google.com/search?q={query}&tbm=isch&hl=en&tbs=isz:l&rlz=1C1CHZN_koKR971KR971&sa=X&ved=0CAIQpwVqFwoTCIC5mMe9qfUCFQAAAAAdAAAAABAC&biw=942&bih=941'\n",
    "    \n",
    "    wd.get(url)\n",
    "    wd.maximize_window() #전체화면으로 스크래핑\n",
    "    \n",
    "    scroll_down()\n",
    "    \n",
    "    div = wd.find_element(By.XPATH, '//*[@id=\"islrg\"]/div[1]')\n",
    "    img_list = div.find_elements(By.CSS_SELECTOR, '.rg_i Q4LuWd')\n",
    "    \n",
    "    for index, img in enumerate(img_list):\n",
    "        try:\n",
    "            #이 함수로 저장 이름, 인덱스, 이미지, 이미지 총 개수를 파라미터로 넘긴다\n",
    "            click_and_save(dir_name, index, img, len(img_list))\n",
    "        except ElementClickInterceptedException as e: # 클릭시 문제 발생하면 아래로\n",
    "            print(e)\n",
    "            wd.execute_script(\"window.scrllTo(0, window.scrollY + 100)\") #스크롤을 다시 하도록\n",
    "            time.sleep(1)\n",
    "            click_and_save(dir_name, index, img, len(img_list))\n",
    "        except NoSuchElementException as e:\n",
    "            print(e)\n",
    "            wd.execute_script(\"window.scrllTo(0, window.scrollY + 100)\") #스크롤을 다시 하도록\n",
    "            time.sleep(1)\n",
    "            click_and_save(dir_name, index, img, len(img_list))\n",
    "        except ConnectionResetError as e: #연결 문제는 pass\n",
    "            print(e)\n",
    "            pass\n",
    "        except URLError as e: #URL 문제시 PASS\n",
    "            print(e)\n",
    "            pass\n",
    "        except socket.timeout as e: #소켓 통신 에러 pass\n",
    "            print(e)\n",
    "            pass\n",
    "        except soket.gaierror as e: #소켓 통신 address 에러시 pass\n",
    "            print(e)\n",
    "            pass\n",
    "        except ElementNotInteractableException as e: #엘리멘트 호환이 되지 않을때 \n",
    "            print(e)\n",
    "            break\n",
    "            \n",
    "    try:\n",
    "        print(\"[스크래핑 종료 (성공률: %.2f%%)]\" % (scraped_count / len(img_list) * 100.0))\n",
    "    except ZeroDivisionError as e: #성공률 계산시 0이 나오면 패스\n",
    "        print(e)\n",
    "        pass\n",
    "    \n",
    "    wd.quit()\n",
    "    \n",
    "    "
   ]
  },
  {
   "cell_type": "code",
   "execution_count": null,
   "id": "f969d4bb",
   "metadata": {},
   "outputs": [],
   "source": []
  },
  {
   "cell_type": "code",
   "execution_count": 3,
   "id": "18c5bd80",
   "metadata": {},
   "outputs": [
    {
     "ename": "KeyboardInterrupt",
     "evalue": "Interrupted by user",
     "output_type": "error",
     "traceback": [
      "\u001b[1;31m---------------------------------------------------------------------------\u001b[0m",
      "\u001b[1;31mKeyboardInterrupt\u001b[0m                         Traceback (most recent call last)",
      "\u001b[1;32m~\\AppData\\Local\\Temp/ipykernel_10944/2138867584.py\u001b[0m in \u001b[0;36m<module>\u001b[1;34m\u001b[0m\n\u001b[0;32m      6\u001b[0m \u001b[1;33m\u001b[0m\u001b[0m\n\u001b[0;32m      7\u001b[0m \u001b[0mpath\u001b[0m \u001b[1;33m=\u001b[0m \u001b[1;34m'./'\u001b[0m \u001b[1;31m#현재 사용하는 위치에서 검색어 폴더를 만들고 이미지 다운로드 용\u001b[0m\u001b[1;33m\u001b[0m\u001b[1;33m\u001b[0m\u001b[0m\n\u001b[1;32m----> 8\u001b[1;33m \u001b[0mquery\u001b[0m \u001b[1;33m=\u001b[0m \u001b[0minput\u001b[0m\u001b[1;33m(\u001b[0m\u001b[1;34m'검색어 입력: '\u001b[0m\u001b[1;33m)\u001b[0m\u001b[1;33m\u001b[0m\u001b[1;33m\u001b[0m\u001b[0m\n\u001b[0m\u001b[0;32m      9\u001b[0m \u001b[1;33m\u001b[0m\u001b[0m\n\u001b[0;32m     10\u001b[0m \u001b[0mdir_name\u001b[0m \u001b[1;33m=\u001b[0m \u001b[0mpath\u001b[0m \u001b[1;33m+\u001b[0m \u001b[0mquery\u001b[0m\u001b[1;33m\u001b[0m\u001b[1;33m\u001b[0m\u001b[0m\n",
      "\u001b[1;32mC:\\devtools\\python\\lib\\site-packages\\ipykernel\\kernelbase.py\u001b[0m in \u001b[0;36mraw_input\u001b[1;34m(self, prompt)\u001b[0m\n\u001b[0;32m   1005\u001b[0m                 \u001b[1;34m\"raw_input was called, but this frontend does not support input requests.\"\u001b[0m\u001b[1;33m\u001b[0m\u001b[1;33m\u001b[0m\u001b[0m\n\u001b[0;32m   1006\u001b[0m             )\n\u001b[1;32m-> 1007\u001b[1;33m         return self._input_request(\n\u001b[0m\u001b[0;32m   1008\u001b[0m             \u001b[0mstr\u001b[0m\u001b[1;33m(\u001b[0m\u001b[0mprompt\u001b[0m\u001b[1;33m)\u001b[0m\u001b[1;33m,\u001b[0m\u001b[1;33m\u001b[0m\u001b[1;33m\u001b[0m\u001b[0m\n\u001b[0;32m   1009\u001b[0m             \u001b[0mself\u001b[0m\u001b[1;33m.\u001b[0m\u001b[0m_parent_ident\u001b[0m\u001b[1;33m[\u001b[0m\u001b[1;34m\"shell\"\u001b[0m\u001b[1;33m]\u001b[0m\u001b[1;33m,\u001b[0m\u001b[1;33m\u001b[0m\u001b[1;33m\u001b[0m\u001b[0m\n",
      "\u001b[1;32mC:\\devtools\\python\\lib\\site-packages\\ipykernel\\kernelbase.py\u001b[0m in \u001b[0;36m_input_request\u001b[1;34m(self, prompt, ident, parent, password)\u001b[0m\n\u001b[0;32m   1050\u001b[0m             \u001b[1;32mexcept\u001b[0m \u001b[0mKeyboardInterrupt\u001b[0m\u001b[1;33m:\u001b[0m\u001b[1;33m\u001b[0m\u001b[1;33m\u001b[0m\u001b[0m\n\u001b[0;32m   1051\u001b[0m                 \u001b[1;31m# re-raise KeyboardInterrupt, to truncate traceback\u001b[0m\u001b[1;33m\u001b[0m\u001b[1;33m\u001b[0m\u001b[0m\n\u001b[1;32m-> 1052\u001b[1;33m                 \u001b[1;32mraise\u001b[0m \u001b[0mKeyboardInterrupt\u001b[0m\u001b[1;33m(\u001b[0m\u001b[1;34m\"Interrupted by user\"\u001b[0m\u001b[1;33m)\u001b[0m \u001b[1;32mfrom\u001b[0m \u001b[1;32mNone\u001b[0m\u001b[1;33m\u001b[0m\u001b[1;33m\u001b[0m\u001b[0m\n\u001b[0m\u001b[0;32m   1053\u001b[0m             \u001b[1;32mexcept\u001b[0m \u001b[0mException\u001b[0m\u001b[1;33m:\u001b[0m\u001b[1;33m\u001b[0m\u001b[1;33m\u001b[0m\u001b[0m\n\u001b[0;32m   1054\u001b[0m                 \u001b[0mself\u001b[0m\u001b[1;33m.\u001b[0m\u001b[0mlog\u001b[0m\u001b[1;33m.\u001b[0m\u001b[0mwarning\u001b[0m\u001b[1;33m(\u001b[0m\u001b[1;34m\"Invalid Message:\"\u001b[0m\u001b[1;33m,\u001b[0m \u001b[0mexc_info\u001b[0m\u001b[1;33m=\u001b[0m\u001b[1;32mTrue\u001b[0m\u001b[1;33m)\u001b[0m\u001b[1;33m\u001b[0m\u001b[1;33m\u001b[0m\u001b[0m\n",
      "\u001b[1;31mKeyboardInterrupt\u001b[0m: Interrupted by user"
     ]
    }
   ],
   "source": [
    "socket.setdefaulttimeout(30)#소켓 통신 시간 제어\n",
    "\n",
    "wd = webdriver.Chrome('chromedriver', options=chrome_options)\n",
    "\n",
    "scraped_count = 0 #이미지 스크래핑 개수 카운트 용\n",
    "\n",
    "path = './' #현재 사용하는 위치에서 검색어 폴더를 만들고 이미지 다운로드 용\n",
    "query = input('검색어 입력: ')\n",
    "\n",
    "dir_name = path + query\n",
    "os.makedirs(dir_name) # 'dir_name' 으로 폴더 생성\n",
    "\n",
    "print(f\"[{dir_name} 디렉토리 생성]\")\n",
    "\n",
    "scraping(dir_name, query)"
   ]
  },
  {
   "cell_type": "code",
   "execution_count": null,
   "id": "c3e6c708",
   "metadata": {},
   "outputs": [],
   "source": []
  },
  {
   "cell_type": "code",
   "execution_count": null,
   "id": "2570d427",
   "metadata": {},
   "outputs": [],
   "source": []
  },
  {
   "cell_type": "code",
   "execution_count": null,
   "id": "d9d8503e",
   "metadata": {},
   "outputs": [],
   "source": []
  },
  {
   "cell_type": "code",
   "execution_count": null,
   "id": "e1899abb",
   "metadata": {},
   "outputs": [],
   "source": []
  },
  {
   "cell_type": "code",
   "execution_count": null,
   "id": "b0941852",
   "metadata": {},
   "outputs": [],
   "source": []
  },
  {
   "cell_type": "code",
   "execution_count": null,
   "id": "a5a6a168",
   "metadata": {},
   "outputs": [],
   "source": []
  },
  {
   "cell_type": "code",
   "execution_count": null,
   "id": "df962ecf",
   "metadata": {},
   "outputs": [],
   "source": []
  },
  {
   "cell_type": "code",
   "execution_count": null,
   "id": "bef23329",
   "metadata": {},
   "outputs": [],
   "source": []
  },
  {
   "cell_type": "code",
   "execution_count": null,
   "id": "79e20aa9",
   "metadata": {},
   "outputs": [],
   "source": []
  },
  {
   "cell_type": "code",
   "execution_count": null,
   "id": "3135363e",
   "metadata": {},
   "outputs": [],
   "source": []
  },
  {
   "cell_type": "code",
   "execution_count": null,
   "id": "82a0cfd6",
   "metadata": {},
   "outputs": [],
   "source": []
  }
 ],
 "metadata": {
  "kernelspec": {
   "display_name": "Python 3 (ipykernel)",
   "language": "python",
   "name": "python3"
  },
  "language_info": {
   "codemirror_mode": {
    "name": "ipython",
    "version": 3
   },
   "file_extension": ".py",
   "mimetype": "text/x-python",
   "name": "python",
   "nbconvert_exporter": "python",
   "pygments_lexer": "ipython3",
   "version": "3.10.0"
  }
 },
 "nbformat": 4,
 "nbformat_minor": 5
}
