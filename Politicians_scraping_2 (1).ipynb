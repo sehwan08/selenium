{
 "cells": [
  {
   "cell_type": "code",
   "execution_count": 1,
   "id": "139ad9c6",
   "metadata": {
    "id": "139ad9c6"
   },
   "outputs": [],
   "source": [
    "import selenium\n",
    "from selenium import webdriver\n",
    "from selenium.webdriver.common.keys import Keys\n",
    "from selenium.webdriver.common.by import By\n",
    "import time\n",
    "import pandas as pd\n",
    "from selenium.common.exceptions import ElementClickInterceptedException, NoSuchElementException, ElementNotInteractableException  #(클릭시 없을때, 엘리멘트 자체가 없을떄, 엘리멘트가 상호작용을 못할때 )\n",
    "import os\n",
    "import shutil \n",
    "from urllib.request import urlretrieve\n",
    "import re\n",
    "\n",
    "\n",
    "\n",
    "#웹브라우저를 띄우지 않고 진행하기 위한 설정\n",
    "chrome_options = webdriver.ChromeOptions()\n",
    "chrome_options.add_argument('--headless')\n",
    "chrome_options.add_argument('--no-sandbox')\n",
    "chrome_options.add_argument('--disable-dev-shm-usage')"
   ]
  },
  {
   "cell_type": "code",
   "execution_count": 2,
   "id": "ZRY-Xaq7dtAG",
   "metadata": {
    "id": "ZRY-Xaq7dtAG"
   },
   "outputs": [
    {
     "name": "stdout",
     "output_type": "stream",
     "text": [
      "Requirement already satisfied: selenium in c:\\devtools\\python\\lib\\site-packages (4.0.0)\n",
      "Requirement already satisfied: urllib3[secure]~=1.26 in c:\\devtools\\python\\lib\\site-packages (from selenium) (1.26.7)\n",
      "Requirement already satisfied: trio-websocket~=0.9 in c:\\devtools\\python\\lib\\site-packages (from selenium) (0.9.2)\n",
      "Requirement already satisfied: trio~=0.17 in c:\\devtools\\python\\lib\\site-packages (from selenium) (0.19.0)\n",
      "Requirement already satisfied: outcome in c:\\devtools\\python\\lib\\site-packages (from trio~=0.17->selenium) (1.1.0)\n",
      "Requirement already satisfied: cffi>=1.14 in c:\\devtools\\python\\lib\\site-packages (from trio~=0.17->selenium) (1.15.0)\n",
      "Requirement already satisfied: sniffio in c:\\devtools\\python\\lib\\site-packages (from trio~=0.17->selenium) (1.2.0)\n",
      "Requirement already satisfied: sortedcontainers in c:\\devtools\\python\\lib\\site-packages (from trio~=0.17->selenium) (2.4.0)\n",
      "Requirement already satisfied: async-generator>=1.9 in c:\\devtools\\python\\lib\\site-packages (from trio~=0.17->selenium) (1.10)\n",
      "Requirement already satisfied: idna in c:\\devtools\\python\\lib\\site-packages (from trio~=0.17->selenium) (3.3)\n",
      "Requirement already satisfied: attrs>=19.2.0 in c:\\devtools\\python\\lib\\site-packages (from trio~=0.17->selenium) (21.2.0)\n",
      "Requirement already satisfied: wsproto>=0.14 in c:\\devtools\\python\\lib\\site-packages (from trio-websocket~=0.9->selenium) (1.0.0)\n",
      "Requirement already satisfied: cryptography>=1.3.4 in c:\\devtools\\python\\lib\\site-packages (from urllib3[secure]~=1.26->selenium) (35.0.0)\n",
      "Requirement already satisfied: pyOpenSSL>=0.14 in c:\\devtools\\python\\lib\\site-packages (from urllib3[secure]~=1.26->selenium) (21.0.0)\n",
      "Requirement already satisfied: certifi in c:\\devtools\\python\\lib\\site-packages (from urllib3[secure]~=1.26->selenium) (2021.10.8)\n",
      "Requirement already satisfied: pycparser in c:\\devtools\\python\\lib\\site-packages (from cffi>=1.14->trio~=0.17->selenium) (2.20)\n",
      "Requirement already satisfied: six>=1.5.2 in c:\\devtools\\python\\lib\\site-packages (from pyOpenSSL>=0.14->urllib3[secure]~=1.26->selenium) (1.16.0)\n",
      "Requirement already satisfied: h11<1,>=0.9.0 in c:\\devtools\\python\\lib\\site-packages (from wsproto>=0.14->trio-websocket~=0.9->selenium) (0.12.0)\n"
     ]
    },
    {
     "name": "stderr",
     "output_type": "stream",
     "text": [
      "'apt-get'은(는) 내부 또는 외부 명령, 실행할 수 있는 프로그램, 또는\n",
      "배치 파일이 아닙니다.\n",
      "'apt'은(는) 내부 또는 외부 명령, 실행할 수 있는 프로그램, 또는\n",
      "배치 파일이 아닙니다.\n",
      "'cp'은(는) 내부 또는 외부 명령, 실행할 수 있는 프로그램, 또는\n",
      "배치 파일이 아닙니다.\n"
     ]
    }
   ],
   "source": [
    "!pip install selenium\n",
    "!apt-get update\n",
    "!apt install chromium-chromedriver\n",
    "!cp /usr/lib/chromium-browser/chromedriver /usr/bin\n",
    " \n",
    "# -*- coding: UTF-8 -*-\n",
    "import time\n",
    "from selenium import webdriver"
   ]
  },
  {
   "cell_type": "markdown",
   "id": "4c955319",
   "metadata": {
    "id": "4c955319"
   },
   "source": [
    "### get_politician_info(dir_name, wd) : 국회의원 정보 스크래핑"
   ]
  },
  {
   "cell_type": "code",
   "execution_count": 3,
   "id": "71a1336a",
   "metadata": {
    "id": "71a1336a"
   },
   "outputs": [],
   "source": [
    "def get_politician_info(dir_name, wd):\n",
    "    profile_info = wd.find_element(By.CSS_SELECTOR, '#contents > div.sp-person.contents > section.person-info.spacial-page.cl')\n",
    "    cols = profile_info.find_elements(By.TAG_NAME, 'dt')\n",
    "    columns = [col.text for col in cols]\n",
    "    \n",
    "    infos = profile_info.find_elements(By.TAG_NAME, 'dd')\n",
    "    detail_info = [info.text for info in infos]\n",
    "    \n",
    "    info_dic = {col:info for col, info in zip(columns, detail_info)}\n",
    "    \n",
    "    return info_dic"
   ]
  },
  {
   "cell_type": "markdown",
   "id": "8b62c610",
   "metadata": {
    "id": "8b62c610"
   },
   "source": [
    "### get_news_quote(dir_name, name, wd): 뉴스 인용문 스크래핑"
   ]
  },
  {
   "cell_type": "code",
   "execution_count": 4,
   "id": "5acdf275",
   "metadata": {
    "id": "5acdf275"
   },
   "outputs": [],
   "source": [
    "def get_news_quote(dir_name, name, wd, news_max = 3):\n",
    "    \n",
    "    page_no = 0\n",
    "    news_count = 0\n",
    "    news_total = wd.find_element(By.ID, 'newsInQoutTotalCount').text[1:-2]\n",
    "    news_file = open(dir_name + '/' + name + '뉴스 인용문.txt','w',encoding='UTF8')\n",
    "    \n",
    "    while True:\n",
    "        try:\n",
    "            page_no += 1\n",
    "            print(f\"---------(뉴스 인용문 {page_no} 페이지)----------\")\n",
    "            time.sleep(1)\n",
    "            \n",
    "            box_list = wd.find_element(By.ID, 'newsInQuotList')\n",
    "            quotoes = box_list.find_elements(By.CLASS_NAME, 'title')\n",
    "            \n",
    "            \n",
    "            for quoto in quotoes:\n",
    "                news_file.write(quoto.text + '\\n')\n",
    "                news_count += 1\n",
    "                print(f\"{news_count}/{news_total}\", [quoto.text])\n",
    "                print()\n",
    "                if news_count >= news_max:\n",
    "                    break\n",
    "\n",
    "\n",
    "            paging = wd.find_element(By.ID, 'newsInQuotListPaging')\n",
    "\n",
    "            next_button = paging.find_element(By.CSS_SELECTOR, '#newsInQuotListPaging > a.page-next.page-link')\n",
    "            if next_button.get_attribute('onclick') == None:\n",
    "                break\n",
    "                    \n",
    "                         \n",
    "            pagination = paging.find_element(By.CSS_SELECTOR, '#newsInQuotListPaging > a.page-next.page-link').click()\n",
    "            time.sleep(3)\n",
    "\n",
    "                    \n",
    "            if news_count >= news_max:\n",
    "                break\n",
    "                \n",
    "\n",
    "        except Exception as e:\n",
    "            print(e)\n",
    "            break\n",
    "            \n",
    "    news_file.close()"
   ]
  },
  {
   "cell_type": "markdown",
   "id": "25a22f69",
   "metadata": {
    "id": "25a22f69"
   },
   "source": [
    "### get_record_quote(dir_name, name, wd) : 국회의원 회의록 인용문"
   ]
  },
  {
   "cell_type": "code",
   "execution_count": 5,
   "id": "dcb7dae4",
   "metadata": {
    "id": "dcb7dae4"
   },
   "outputs": [],
   "source": [
    "def get_record_quote(dir_name, name, wd, record_max = 3):\n",
    "    page_no = 0\n",
    "    record_count = 0\n",
    "    total_page = wd.find_element(By.CSS_SELECTOR, '#recordTableListPaging > span.total').text\n",
    "#     print(count_records)\n",
    "    total_page = int(total_page)\n",
    "    count_records = wd.find_element(By.ID, 'recordTableList').find_elements(By.TAG_NAME,'tr')\n",
    "    count_records = len(count_records)\n",
    "    \n",
    "    totals = total_page * count_records\n",
    "    \n",
    "    record_file = open(dir_name + '/' + name + '회의록 인용문.txt','w', encoding='UTF8')\n",
    "    \n",
    "    while True:\n",
    "        try:\n",
    "            page_no += 1\n",
    "            print(f\"---------(회의록 인용문 {page_no} 페이지)----------\")\n",
    "            \n",
    "            \n",
    "            record_table = wd.find_element(By.ID, 'recordTableList')\n",
    "            record_list = record_table.find_elements(By.TAG_NAME, 'a')\n",
    "            \n",
    "            for record in record_list:\n",
    "                record.click()\n",
    "                time.sleep(3)\n",
    "                \n",
    "                qoute_list = wd.find_element(By.ID, 'birefTableList')\n",
    "                quotoes = qoute_list.find_elements(By.TAG_NAME, 'li')\n",
    "\n",
    "                last_txt = \"\"\n",
    "                for quoto in quotoes:\n",
    "                    last_txt = quoto.text\n",
    "                    record_file.write(quoto.text + '\\n')\n",
    "                    \n",
    "                record_count += 1\n",
    "                print(f\"{record_count}/{totals}\", record.text, last_txt) # quotoes가 비어있을 때 오류가 뜹니다, 일단 이렇게 처리하기는 했지만 길이 체크하거나 하는 수정이 필요할 것 같습니다.\n",
    "                print()\n",
    "                \n",
    "                if record_count >= record_max:\n",
    "                    break\n",
    "                    \n",
    "\n",
    "\n",
    "            # 수정!\n",
    "            next_button = wd.find_element(By.CSS_SELECTOR, '#recordTableListPaging > a.page-next.page-link')\n",
    "            if next_button.get_attribute('onclick') == None:\n",
    "                break\n",
    "                \n",
    "            wd.execute_script(next_button.get_attribute('onclick'))\n",
    "            time.sleep(3)\n",
    "\n",
    "                    \n",
    "            if record_count >= record_max:\n",
    "                break\n",
    "                \n",
    "\n",
    "        except Exception as e:\n",
    "            raise e # 스택 확인\n",
    "            print(e)\n",
    "            break\n",
    "            \n",
    "    record_file.close()"
   ]
  },
  {
   "cell_type": "markdown",
   "id": "1bb70bd7",
   "metadata": {
    "id": "1bb70bd7"
   },
   "source": [
    "### scraping(): 스크래핑 함수"
   ]
  },
  {
   "cell_type": "code",
   "execution_count": 6,
   "id": "9a4f11b9",
   "metadata": {
    "id": "9a4f11b9"
   },
   "outputs": [],
   "source": [
    "def scraping(dir_name, politician_max=3):\n",
    "    page_no = 0\n",
    "    politician_count = 0\n",
    "    politician_df = pd.DataFrame()\n",
    "    \n",
    "    wd = webdriver.Chrome('chromedriver', options=chrome_options)\n",
    "    wd.execute_script('window.open(\"about:blank\", \"_blank\");')\n",
    "    tabs = wd.window_handles\n",
    "    \n",
    "    while True:\n",
    "        \n",
    "        try:\n",
    "            page_no += 1\n",
    "            wd.switch_to.window(tabs[0])\n",
    "\n",
    "            url = f\"https://www.bigkinds.or.kr/v2/depthAnalysis/assembly.do?page={page_no}\"\n",
    "            wd.get(url)\n",
    "\n",
    "            politician_total = wd.find_element(By.XPATH, '//*[@id=\"contents\"]/section[1]/div/div/div[1]/div[2]').text\n",
    "            politician_items = wd.find_elements(By.CSS_SELECTOR, '#contents > section.spacial-person.spacial-page > div > ul > li')\n",
    "\n",
    "            if not politician_items:\n",
    "                break\n",
    "\n",
    "            for item in politician_items: # 빠른 테스트를 위해 두번째 의원부터\n",
    "                wd.switch_to.window(tabs[0])\n",
    "\n",
    "                politician_count += 1\n",
    "\n",
    "                print('--------------------------------------')\n",
    "                print(f\"[국회의원 {politician_count}/{politician_total}명]\" )\n",
    "                name = item.find_element(By.CLASS_NAME, 'sp-kname').text\n",
    "    #             name = name[:3] 이름 자를때 쓰자!\n",
    "                print(name)\n",
    "                \n",
    "                detail_link = item.find_element(By.TAG_NAME, 'a').get_attribute('href')\n",
    "#                 print(detail_link)\n",
    "                wd.switch_to.window(tabs[1])\n",
    "                wd.get(detail_link)\n",
    "                time.sleep(1)\n",
    "                \n",
    "                print(\"[프로필 이미지 다운로드]\")\n",
    "                profile_image = wd.find_element(By.CLASS_NAME, 'thumb')\n",
    "                image_src = profile_image.find_element(By.TAG_NAME, 'img').get_attribute('src')\n",
    "                file_name = dir_name + '/' + name + '.jpg'\n",
    "                print(file_name)\n",
    "                urlretrieve(image_src, file_name)\n",
    "                \n",
    "                print(\"[기본 정보 스크래핑]\")\n",
    "                politician_dic = get_politician_info(dir_name, wd)\n",
    "                print(\"    \",politician_dic)\n",
    "                politician_df = politician_df.append(politician_dic, ignore_index=True)\n",
    "                \n",
    "                print(\"[뉴스 인용문 스크래핑]\")\n",
    "                tab = wd.find_element(By.CSS_SELECTOR, 'li.analysisTab-01.ui-state-active').find_element(By.TAG_NAME, 'a').click()\n",
    "                time.sleep(1)\n",
    "                get_news_quote(dir_name, name, wd)\n",
    "                \n",
    "                \n",
    "                print(\"[회의록 인용문 스크래핑]\")\n",
    "                time.sleep(3) # 찾기 전에 sleep\n",
    "                another_tab = wd.find_element(By.CSS_SELECTOR, '#contents > div.sp-person.contents > section.person-desc.spacial-page > div > ul > li:nth-child(2) > a').send_keys(Keys.ENTER)\n",
    "                # time.sleep(3)\n",
    "                get_record_quote(dir_name, name, wd)\n",
    "                \n",
    "    \n",
    "\n",
    "                if politician_count >= politician_max:\n",
    "                    break\n",
    "            if politician_count >= politician_max:\n",
    "                    break\n",
    "        except AttributeError as e:\n",
    "            print(e)\n",
    "            break\n",
    "            \n",
    "        except NoSuchElementException as e:\n",
    "            print(e)\n",
    "            break\n",
    "    \n",
    "    wd.close()\n",
    "    \n",
    "    return politician_df\n"
   ]
  },
  {
   "cell_type": "markdown",
   "id": "cea676ea",
   "metadata": {
    "id": "cea676ea"
   },
   "source": [
    "### 스크래핑 시작"
   ]
  },
  {
   "cell_type": "code",
   "execution_count": 7,
   "id": "f73c75d7",
   "metadata": {
    "colab": {
     "base_uri": "https://localhost:8080/"
    },
    "id": "f73c75d7",
    "outputId": "e2dc2408-b8c6-4d92-ab4e-008948f67432",
    "scrolled": false
   },
   "outputs": [
    {
     "name": "stdout",
     "output_type": "stream",
     "text": [
      "'DIR_NAME': ./politicial 디렉토리 생성\n",
      "--------------------------------------\n",
      "[국회의원 1/295명]\n",
      "강기윤(姜起潤)\n",
      "[프로필 이미지 다운로드]\n",
      "./politicial/강기윤(姜起潤).jpg\n",
      "[기본 정보 스크래핑]\n",
      "     {'지역구': '경남 창원시성산구', '당선기록': '재선(19대, 21대)', '소속위원회': '보건복지위원회', '사무실전화': '02-784-1751', '보좌관': '김홍광 , 한영애', '이메일주소': 'ggotop@naver.com', '홈페이지': 'http://blog.naver.com/ggotop', '경력': '[학력] 마산공고(26회) 창원대학교 행정학과 중앙대학교 행정대학원 지방의회과 석사 창원대학교 대학원 행정학 박사 [경력] 현) 국회 보건복지위원회 국민의힘 간사 현) 국민의힘 소상공인살리기 특별위원회 부위원장 현) 국민의힘 코로나19 대책 특별위원회 위원 미래통합당 경남도당 민생특위 위원장 제19대 국회의원 (새누리당/경남 창원시 성산구) 새누리당 원내부대표'}\n",
      "[뉴스 인용문 스크래핑]\n",
      "---------(뉴스 인용문 1 페이지)----------\n",
      "1/8 ['영역 간 다툼 없이 할 수 있는 것을 정부가 고민했어야 한다']\n",
      "\n",
      "2/8 ['']\n",
      "\n",
      "3/8 ['']\n",
      "\n",
      "[회의록 인용문 스크래핑]\n"
     ]
    },
    {
     "ename": "ElementNotInteractableException",
     "evalue": "Message: element not interactable\n  (Session info: headless chrome=97.0.4692.71)\nStacktrace:\nBacktrace:\n\tOrdinal0 [0x0036FDC3+2555331]\n\tOrdinal0 [0x003077F1+2127857]\n\tOrdinal0 [0x00202CD0+1060048]\n\tOrdinal0 [0x002299F3+1219059]\n\tOrdinal0 [0x0022913F+1216831]\n\tOrdinal0 [0x00247B0C+1342220]\n\tOrdinal0 [0x00224984+1198468]\n\tOrdinal0 [0x00247C14+1342484]\n\tOrdinal0 [0x002575FA+1406458]\n\tOrdinal0 [0x00247976+1341814]\n\tOrdinal0 [0x002236B6+1193654]\n\tOrdinal0 [0x00224546+1197382]\n\tGetHandleVerifier [0x00509622+1619522]\n\tGetHandleVerifier [0x005B882C+2336844]\n\tGetHandleVerifier [0x004023E1+541697]\n\tGetHandleVerifier [0x00401443+537699]\n\tOrdinal0 [0x0030D18E+2150798]\n\tOrdinal0 [0x00311518+2168088]\n\tOrdinal0 [0x00311660+2168416]\n\tOrdinal0 [0x0031B330+2208560]\n\tBaseThreadInitThunk [0x7792FA29+25]\n\tRtlGetAppContainerNamedObjectPath [0x77E87A9E+286]\n\tRtlGetAppContainerNamedObjectPath [0x77E87A6E+238]\n",
     "output_type": "error",
     "traceback": [
      "\u001b[1;31m---------------------------------------------------------------------------\u001b[0m",
      "\u001b[1;31mElementNotInteractableException\u001b[0m           Traceback (most recent call last)",
      "\u001b[1;32m~\\AppData\\Local\\Temp/ipykernel_13508/621032514.py\u001b[0m in \u001b[0;36m<module>\u001b[1;34m\u001b[0m\n\u001b[0;32m      6\u001b[0m \u001b[0mprint\u001b[0m\u001b[1;33m(\u001b[0m\u001b[1;34mf\"'DIR_NAME': {dir_name} 디렉토리 생성\"\u001b[0m\u001b[1;33m)\u001b[0m\u001b[1;33m\u001b[0m\u001b[1;33m\u001b[0m\u001b[0m\n\u001b[0;32m      7\u001b[0m \u001b[1;33m\u001b[0m\u001b[0m\n\u001b[1;32m----> 8\u001b[1;33m \u001b[0mpolitician_df\u001b[0m \u001b[1;33m=\u001b[0m \u001b[0mscraping\u001b[0m\u001b[1;33m(\u001b[0m\u001b[0mdir_name\u001b[0m\u001b[1;33m)\u001b[0m\u001b[1;33m\u001b[0m\u001b[1;33m\u001b[0m\u001b[0m\n\u001b[0m",
      "\u001b[1;32m~\\AppData\\Local\\Temp/ipykernel_13508/713344621.py\u001b[0m in \u001b[0;36mscraping\u001b[1;34m(dir_name, politician_max)\u001b[0m\n\u001b[0;32m     60\u001b[0m                 \u001b[0mprint\u001b[0m\u001b[1;33m(\u001b[0m\u001b[1;34m\"[회의록 인용문 스크래핑]\"\u001b[0m\u001b[1;33m)\u001b[0m\u001b[1;33m\u001b[0m\u001b[1;33m\u001b[0m\u001b[0m\n\u001b[0;32m     61\u001b[0m                 \u001b[0mtime\u001b[0m\u001b[1;33m.\u001b[0m\u001b[0msleep\u001b[0m\u001b[1;33m(\u001b[0m\u001b[1;36m3\u001b[0m\u001b[1;33m)\u001b[0m \u001b[1;31m# 찾기 전에 sleep\u001b[0m\u001b[1;33m\u001b[0m\u001b[1;33m\u001b[0m\u001b[0m\n\u001b[1;32m---> 62\u001b[1;33m                 \u001b[0manother_tab\u001b[0m \u001b[1;33m=\u001b[0m \u001b[0mwd\u001b[0m\u001b[1;33m.\u001b[0m\u001b[0mfind_element\u001b[0m\u001b[1;33m(\u001b[0m\u001b[0mBy\u001b[0m\u001b[1;33m.\u001b[0m\u001b[0mCSS_SELECTOR\u001b[0m\u001b[1;33m,\u001b[0m \u001b[1;34m'#contents > div.sp-person.contents > section.person-desc.spacial-page > div > ul > li:nth-child(2) > a'\u001b[0m\u001b[1;33m)\u001b[0m\u001b[1;33m.\u001b[0m\u001b[0msend_keys\u001b[0m\u001b[1;33m(\u001b[0m\u001b[0mKeys\u001b[0m\u001b[1;33m.\u001b[0m\u001b[0mENTER\u001b[0m\u001b[1;33m)\u001b[0m\u001b[1;33m\u001b[0m\u001b[1;33m\u001b[0m\u001b[0m\n\u001b[0m\u001b[0;32m     63\u001b[0m                 \u001b[1;31m# time.sleep(3)\u001b[0m\u001b[1;33m\u001b[0m\u001b[1;33m\u001b[0m\u001b[0m\n\u001b[0;32m     64\u001b[0m                 \u001b[0mget_record_quote\u001b[0m\u001b[1;33m(\u001b[0m\u001b[0mdir_name\u001b[0m\u001b[1;33m,\u001b[0m \u001b[0mname\u001b[0m\u001b[1;33m,\u001b[0m \u001b[0mwd\u001b[0m\u001b[1;33m)\u001b[0m\u001b[1;33m\u001b[0m\u001b[1;33m\u001b[0m\u001b[0m\n",
      "\u001b[1;32mC:\\devtools\\python\\lib\\site-packages\\selenium\\webdriver\\remote\\webelement.py\u001b[0m in \u001b[0;36msend_keys\u001b[1;34m(self, *value)\u001b[0m\n\u001b[0;32m    537\u001b[0m                 \u001b[0mvalue\u001b[0m \u001b[1;33m=\u001b[0m \u001b[1;34m'\\n'\u001b[0m\u001b[1;33m.\u001b[0m\u001b[0mjoin\u001b[0m\u001b[1;33m(\u001b[0m\u001b[0mremote_files\u001b[0m\u001b[1;33m)\u001b[0m\u001b[1;33m\u001b[0m\u001b[1;33m\u001b[0m\u001b[0m\n\u001b[0;32m    538\u001b[0m \u001b[1;33m\u001b[0m\u001b[0m\n\u001b[1;32m--> 539\u001b[1;33m         self._execute(Command.SEND_KEYS_TO_ELEMENT,\n\u001b[0m\u001b[0;32m    540\u001b[0m                       {'text': \"\".join(keys_to_typing(value)),\n\u001b[0;32m    541\u001b[0m                        'value': keys_to_typing(value)})\n",
      "\u001b[1;32mC:\\devtools\\python\\lib\\site-packages\\selenium\\webdriver\\remote\\webelement.py\u001b[0m in \u001b[0;36m_execute\u001b[1;34m(self, command, params)\u001b[0m\n\u001b[0;32m    691\u001b[0m             \u001b[0mparams\u001b[0m \u001b[1;33m=\u001b[0m \u001b[1;33m{\u001b[0m\u001b[1;33m}\u001b[0m\u001b[1;33m\u001b[0m\u001b[1;33m\u001b[0m\u001b[0m\n\u001b[0;32m    692\u001b[0m         \u001b[0mparams\u001b[0m\u001b[1;33m[\u001b[0m\u001b[1;34m'id'\u001b[0m\u001b[1;33m]\u001b[0m \u001b[1;33m=\u001b[0m \u001b[0mself\u001b[0m\u001b[1;33m.\u001b[0m\u001b[0m_id\u001b[0m\u001b[1;33m\u001b[0m\u001b[1;33m\u001b[0m\u001b[0m\n\u001b[1;32m--> 693\u001b[1;33m         \u001b[1;32mreturn\u001b[0m \u001b[0mself\u001b[0m\u001b[1;33m.\u001b[0m\u001b[0m_parent\u001b[0m\u001b[1;33m.\u001b[0m\u001b[0mexecute\u001b[0m\u001b[1;33m(\u001b[0m\u001b[0mcommand\u001b[0m\u001b[1;33m,\u001b[0m \u001b[0mparams\u001b[0m\u001b[1;33m)\u001b[0m\u001b[1;33m\u001b[0m\u001b[1;33m\u001b[0m\u001b[0m\n\u001b[0m\u001b[0;32m    694\u001b[0m \u001b[1;33m\u001b[0m\u001b[0m\n\u001b[0;32m    695\u001b[0m     \u001b[1;32mdef\u001b[0m \u001b[0mfind_element\u001b[0m\u001b[1;33m(\u001b[0m\u001b[0mself\u001b[0m\u001b[1;33m,\u001b[0m \u001b[0mby\u001b[0m\u001b[1;33m=\u001b[0m\u001b[0mBy\u001b[0m\u001b[1;33m.\u001b[0m\u001b[0mID\u001b[0m\u001b[1;33m,\u001b[0m \u001b[0mvalue\u001b[0m\u001b[1;33m=\u001b[0m\u001b[1;32mNone\u001b[0m\u001b[1;33m)\u001b[0m\u001b[1;33m:\u001b[0m\u001b[1;33m\u001b[0m\u001b[1;33m\u001b[0m\u001b[0m\n",
      "\u001b[1;32mC:\\devtools\\python\\lib\\site-packages\\selenium\\webdriver\\remote\\webdriver.py\u001b[0m in \u001b[0;36mexecute\u001b[1;34m(self, driver_command, params)\u001b[0m\n\u001b[0;32m    416\u001b[0m         \u001b[0mresponse\u001b[0m \u001b[1;33m=\u001b[0m \u001b[0mself\u001b[0m\u001b[1;33m.\u001b[0m\u001b[0mcommand_executor\u001b[0m\u001b[1;33m.\u001b[0m\u001b[0mexecute\u001b[0m\u001b[1;33m(\u001b[0m\u001b[0mdriver_command\u001b[0m\u001b[1;33m,\u001b[0m \u001b[0mparams\u001b[0m\u001b[1;33m)\u001b[0m\u001b[1;33m\u001b[0m\u001b[1;33m\u001b[0m\u001b[0m\n\u001b[0;32m    417\u001b[0m         \u001b[1;32mif\u001b[0m \u001b[0mresponse\u001b[0m\u001b[1;33m:\u001b[0m\u001b[1;33m\u001b[0m\u001b[1;33m\u001b[0m\u001b[0m\n\u001b[1;32m--> 418\u001b[1;33m             \u001b[0mself\u001b[0m\u001b[1;33m.\u001b[0m\u001b[0merror_handler\u001b[0m\u001b[1;33m.\u001b[0m\u001b[0mcheck_response\u001b[0m\u001b[1;33m(\u001b[0m\u001b[0mresponse\u001b[0m\u001b[1;33m)\u001b[0m\u001b[1;33m\u001b[0m\u001b[1;33m\u001b[0m\u001b[0m\n\u001b[0m\u001b[0;32m    419\u001b[0m             response['value'] = self._unwrap_value(\n\u001b[0;32m    420\u001b[0m                 response.get('value', None))\n",
      "\u001b[1;32mC:\\devtools\\python\\lib\\site-packages\\selenium\\webdriver\\remote\\errorhandler.py\u001b[0m in \u001b[0;36mcheck_response\u001b[1;34m(self, response)\u001b[0m\n\u001b[0;32m    241\u001b[0m                 \u001b[0malert_text\u001b[0m \u001b[1;33m=\u001b[0m \u001b[0mvalue\u001b[0m\u001b[1;33m[\u001b[0m\u001b[1;34m'alert'\u001b[0m\u001b[1;33m]\u001b[0m\u001b[1;33m.\u001b[0m\u001b[0mget\u001b[0m\u001b[1;33m(\u001b[0m\u001b[1;34m'text'\u001b[0m\u001b[1;33m)\u001b[0m\u001b[1;33m\u001b[0m\u001b[1;33m\u001b[0m\u001b[0m\n\u001b[0;32m    242\u001b[0m             \u001b[1;32mraise\u001b[0m \u001b[0mexception_class\u001b[0m\u001b[1;33m(\u001b[0m\u001b[0mmessage\u001b[0m\u001b[1;33m,\u001b[0m \u001b[0mscreen\u001b[0m\u001b[1;33m,\u001b[0m \u001b[0mstacktrace\u001b[0m\u001b[1;33m,\u001b[0m \u001b[0malert_text\u001b[0m\u001b[1;33m)\u001b[0m  \u001b[1;31m# type: ignore[call-arg]  # mypy is not smart enough here\u001b[0m\u001b[1;33m\u001b[0m\u001b[1;33m\u001b[0m\u001b[0m\n\u001b[1;32m--> 243\u001b[1;33m         \u001b[1;32mraise\u001b[0m \u001b[0mexception_class\u001b[0m\u001b[1;33m(\u001b[0m\u001b[0mmessage\u001b[0m\u001b[1;33m,\u001b[0m \u001b[0mscreen\u001b[0m\u001b[1;33m,\u001b[0m \u001b[0mstacktrace\u001b[0m\u001b[1;33m)\u001b[0m\u001b[1;33m\u001b[0m\u001b[1;33m\u001b[0m\u001b[0m\n\u001b[0m\u001b[0;32m    244\u001b[0m \u001b[1;33m\u001b[0m\u001b[0m\n\u001b[0;32m    245\u001b[0m     \u001b[1;32mdef\u001b[0m \u001b[0m_value_or_default\u001b[0m\u001b[1;33m(\u001b[0m\u001b[0mself\u001b[0m\u001b[1;33m,\u001b[0m \u001b[0mobj\u001b[0m\u001b[1;33m:\u001b[0m \u001b[0mMapping\u001b[0m\u001b[1;33m[\u001b[0m\u001b[0m_KT\u001b[0m\u001b[1;33m,\u001b[0m \u001b[0m_VT\u001b[0m\u001b[1;33m]\u001b[0m\u001b[1;33m,\u001b[0m \u001b[0mkey\u001b[0m\u001b[1;33m:\u001b[0m \u001b[0m_KT\u001b[0m\u001b[1;33m,\u001b[0m \u001b[0mdefault\u001b[0m\u001b[1;33m:\u001b[0m \u001b[0m_VT\u001b[0m\u001b[1;33m)\u001b[0m \u001b[1;33m->\u001b[0m \u001b[0m_VT\u001b[0m\u001b[1;33m:\u001b[0m\u001b[1;33m\u001b[0m\u001b[1;33m\u001b[0m\u001b[0m\n",
      "\u001b[1;31mElementNotInteractableException\u001b[0m: Message: element not interactable\n  (Session info: headless chrome=97.0.4692.71)\nStacktrace:\nBacktrace:\n\tOrdinal0 [0x0036FDC3+2555331]\n\tOrdinal0 [0x003077F1+2127857]\n\tOrdinal0 [0x00202CD0+1060048]\n\tOrdinal0 [0x002299F3+1219059]\n\tOrdinal0 [0x0022913F+1216831]\n\tOrdinal0 [0x00247B0C+1342220]\n\tOrdinal0 [0x00224984+1198468]\n\tOrdinal0 [0x00247C14+1342484]\n\tOrdinal0 [0x002575FA+1406458]\n\tOrdinal0 [0x00247976+1341814]\n\tOrdinal0 [0x002236B6+1193654]\n\tOrdinal0 [0x00224546+1197382]\n\tGetHandleVerifier [0x00509622+1619522]\n\tGetHandleVerifier [0x005B882C+2336844]\n\tGetHandleVerifier [0x004023E1+541697]\n\tGetHandleVerifier [0x00401443+537699]\n\tOrdinal0 [0x0030D18E+2150798]\n\tOrdinal0 [0x00311518+2168088]\n\tOrdinal0 [0x00311660+2168416]\n\tOrdinal0 [0x0031B330+2208560]\n\tBaseThreadInitThunk [0x7792FA29+25]\n\tRtlGetAppContainerNamedObjectPath [0x77E87A9E+286]\n\tRtlGetAppContainerNamedObjectPath [0x77E87A6E+238]\n"
     ]
    }
   ],
   "source": [
    "dir_name = './politicial' #폴더 생성\n",
    "if os.path.isdir(dir_name): #폴더가 있으면\n",
    "    shutil.rmtree(dir_name) #지움\n",
    "\n",
    "os.makedirs(dir_name)\n",
    "print(f\"'DIR_NAME': {dir_name} 디렉토리 생성\")\n",
    "\n",
    "politician_df = scraping(dir_name)"
   ]
  },
  {
   "cell_type": "code",
   "execution_count": null,
   "id": "c41f9646",
   "metadata": {
    "id": "c41f9646",
    "outputId": "c7729052-398c-45ad-cf3b-fefca3b9556e"
   },
   "outputs": [],
   "source": [
    "politician_df"
   ]
  },
  {
   "cell_type": "code",
   "execution_count": null,
   "id": "e6594f26",
   "metadata": {
    "id": "e6594f26"
   },
   "outputs": [],
   "source": []
  },
  {
   "cell_type": "code",
   "execution_count": null,
   "id": "85b89b98",
   "metadata": {
    "id": "85b89b98"
   },
   "outputs": [],
   "source": []
  },
  {
   "cell_type": "code",
   "execution_count": null,
   "id": "fd6717ab",
   "metadata": {
    "id": "fd6717ab"
   },
   "outputs": [],
   "source": []
  }
 ],
 "metadata": {
  "colab": {
   "collapsed_sections": [],
   "name": "Politicians_scraping 2.ipynb",
   "provenance": []
  },
  "kernelspec": {
   "display_name": "Python 3 (ipykernel)",
   "language": "python",
   "name": "python3"
  },
  "language_info": {
   "codemirror_mode": {
    "name": "ipython",
    "version": 3
   },
   "file_extension": ".py",
   "mimetype": "text/x-python",
   "name": "python",
   "nbconvert_exporter": "python",
   "pygments_lexer": "ipython3",
   "version": "3.10.0"
  }
 },
 "nbformat": 4,
 "nbformat_minor": 5
}
